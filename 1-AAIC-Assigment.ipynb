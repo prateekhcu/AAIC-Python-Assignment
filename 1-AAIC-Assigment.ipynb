{
  "nbformat": 4,
  "nbformat_minor": 0,
  "metadata": {
    "colab": {
      "name": "AAIC_Assigment 1.ipynb",
      "provenance": [],
      "collapsed_sections": [],
      "authorship_tag": "ABX9TyMsExD6VT42ye6/0e6M+jd9",
      "include_colab_link": true
    },
    "kernelspec": {
      "name": "python3",
      "display_name": "Python 3"
    }
  },
  "cells": [
    {
      "cell_type": "markdown",
      "metadata": {
        "id": "view-in-github",
        "colab_type": "text"
      },
      "source": [
        "<a href=\"https://colab.research.google.com/github/prateekhcu/AAIC-Python-Assignment-No-3/blob/master/AAIC_Assigment_1.ipynb\" target=\"_parent\"><img src=\"https://colab.research.google.com/assets/colab-badge.svg\" alt=\"Open In Colab\"/></a>"
      ]
    },
    {
      "cell_type": "markdown",
      "metadata": {
        "id": "31u7zKnIEYmj",
        "colab_type": "text"
      },
      "source": [
        "#### (1) Write a function that inputs a number and prints the multiplication table of that number ?####\n"
      ]
    },
    {
      "cell_type": "code",
      "metadata": {
        "id": "BD_kiESpEr3y",
        "colab_type": "code",
        "colab": {
          "base_uri": "https://localhost:8080/",
          "height": 204
        },
        "outputId": "a6c888ed-2c22-49ef-d0e0-03d7c4a948e3"
      },
      "source": [
        "class Solution:\n",
        "    def __init__(self,number):\n",
        "        self.number = number\n",
        "\n",
        "    def multiplication(self):\n",
        "        for i in range(1,11):\n",
        "            mult = i * self.number\n",
        "            print(\"{} * {} = {}\".format(number,i,mult))\n",
        "\n",
        "number = int(input(\"enter the number = \"))\n",
        "obj = Solution(number)\n",
        "obj.multiplication()"
      ],
      "execution_count": null,
      "outputs": [
        {
          "output_type": "stream",
          "text": [
            "enter the number 10\n",
            "10 * 1 = 10\n",
            "10 * 2 = 20\n",
            "10 * 3 = 30\n",
            "10 * 4 = 40\n",
            "10 * 5 = 50\n",
            "10 * 6 = 60\n",
            "10 * 7 = 70\n",
            "10 * 8 = 80\n",
            "10 * 9 = 90\n",
            "10 * 10 = 100\n"
          ],
          "name": "stdout"
        }
      ]
    },
    {
      "cell_type": "markdown",
      "metadata": {
        "id": "JlRLW1z5MatX",
        "colab_type": "text"
      },
      "source": [
        "####(2) Write a program to print twin primes less than 1000. If two consecutive odd numbers are both prime then they are known as twin primes ?####"
      ]
    },
    {
      "cell_type": "code",
      "metadata": {
        "id": "3E6Vs58XEXMa",
        "colab_type": "code",
        "colab": {
          "base_uri": "https://localhost:8080/",
          "height": 612
        },
        "outputId": "6065102c-e6e5-479a-836e-9d4382e5dbb5"
      },
      "source": [
        "from math import sqrt, floor\n",
        "class Solution:\n",
        "    def __init__(self, number):\n",
        "      self.number = number\n",
        "\n",
        "    def twinprimes(self):\n",
        "        list_=[]\n",
        "        for i in range(1, self.number+1):\n",
        "            prime = True\n",
        "            for j in range(2, floor(sqrt(i) +1)):\n",
        "                if i%j == 0:\n",
        "                    prime = False\n",
        "                    \n",
        "            if prime == True:\n",
        "              list_.append(i) \n",
        "\n",
        "        for i in range(1,len(list_)):\n",
        "            diff = list_[i] - list_[i-1]\n",
        "            if diff == 2:\n",
        "              print(\"{1},{0}\".format(list_[i],list_[i-1])) \n",
        "\n",
        "number = 1000\n",
        "obj = Solution(number)\n",
        "obj.twinprimes() "
      ],
      "execution_count": null,
      "outputs": [
        {
          "output_type": "stream",
          "text": [
            "3,5\n",
            "5,7\n",
            "11,13\n",
            "17,19\n",
            "29,31\n",
            "41,43\n",
            "59,61\n",
            "71,73\n",
            "101,103\n",
            "107,109\n",
            "137,139\n",
            "149,151\n",
            "179,181\n",
            "191,193\n",
            "197,199\n",
            "227,229\n",
            "239,241\n",
            "269,271\n",
            "281,283\n",
            "311,313\n",
            "347,349\n",
            "419,421\n",
            "431,433\n",
            "461,463\n",
            "521,523\n",
            "569,571\n",
            "599,601\n",
            "617,619\n",
            "641,643\n",
            "659,661\n",
            "809,811\n",
            "821,823\n",
            "827,829\n",
            "857,859\n",
            "881,883\n"
          ],
          "name": "stdout"
        }
      ]
    },
    {
      "cell_type": "markdown",
      "metadata": {
        "id": "Ka1GhPd1Fi80",
        "colab_type": "text"
      },
      "source": [
        "#### (3) Write a program to find out the prime factors of a number. Example: prime factors of 56 -2, 2, 2, 7 ?  ####"
      ]
    },
    {
      "cell_type": "code",
      "metadata": {
        "id": "V8ogio2WGPw5",
        "colab_type": "code",
        "colab": {
          "base_uri": "https://localhost:8080/",
          "height": 102
        },
        "outputId": "b77451b9-7197-49eb-f192-81268bb0985a"
      },
      "source": [
        "from math import sqrt, floor\n",
        "class Solution:\n",
        "  def __init__(self, number):\n",
        "      self.number = number\n",
        "\n",
        "  def prime_factor(self):\n",
        "      num = self.number\n",
        "      for i in range(2, self.number+1): \n",
        "          prime = True    \n",
        "          for j in range(2, floor(sqrt(i)+1)):\n",
        "              if i%j == 0:\n",
        "                prime = False\n",
        "\n",
        "          if prime:\n",
        "            while(num>0):\n",
        "              if num%i == 0:\n",
        "                  num = num//i\n",
        "                  print(i)\n",
        "              else:\n",
        "                  break   \n",
        "\n",
        "number = int(input(\"enter the number = \"))\n",
        "obj = Solution(number)\n",
        "obj.prime_factor()"
      ],
      "execution_count": null,
      "outputs": [
        {
          "output_type": "stream",
          "text": [
            "enter the number = 56\n",
            "2\n",
            "2\n",
            "2\n",
            "7\n"
          ],
          "name": "stdout"
        }
      ]
    },
    {
      "cell_type": "markdown",
      "metadata": {
        "id": "iSJPFs9eQnNi",
        "colab_type": "text"
      },
      "source": [
        "#### 4. Write a program to implement these formulae of permutations and combinations. Number of permutations of n objects taken r at a time: p(n, r) = n! / (n-r)!. Number of combinations of n objects taken r at a time is: c(n, r) = n! / (r!*(n-r)!) = p(n,r) / r! ? ####"
      ]
    },
    {
      "cell_type": "code",
      "metadata": {
        "id": "RUEs2U6ERg_c",
        "colab_type": "code",
        "colab": {
          "base_uri": "https://localhost:8080/",
          "height": 102
        },
        "outputId": "c8af6018-d2f6-4ba0-cab4-e45ca502c923"
      },
      "source": [
        "class Solution:\n",
        "    def __init__(self,n,r,diff):\n",
        "        self.n = n\n",
        "        self.diff = diff\n",
        "        self.r = r\n",
        "\n",
        "    def permutation(self):\n",
        "        fact_n = 1\n",
        "        fact_diff = 1\n",
        "        global permutation\n",
        "        for i in range(1,self.n+1):\n",
        "            fact_n = fact_n * i\n",
        "        for i in range(1,self.diff+1):\n",
        "            fact_diff = fact_diff * i\n",
        "        permutation = fact_n/fact_diff\n",
        "        print(permutation)\n",
        "    \n",
        "    def combination(self):\n",
        "      fact_r =1\n",
        "      print(\"permutation\", permutation)\n",
        "      for i in range(1,self.r+1):\n",
        "          fact_r = fact_r * i\n",
        "      combination = permutation/fact_r\n",
        "      print(\"combination\",combination)\n",
        "\n",
        "n = int(input(\"enter the value of c = \"))\n",
        "r = int(input(\"enter the value of r = \"))\n",
        "diff = n -r\n",
        "if diff >= 0:\n",
        "    obj = Solution(n,r,diff)\n",
        "    obj.permutation()\n",
        "    obj.combination() \n",
        "else:\n",
        "   print(\"wrong data entry\")\n",
        "   exit()\n",
        "\n"
      ],
      "execution_count": null,
      "outputs": [
        {
          "output_type": "stream",
          "text": [
            "enter the value of c = 6\n",
            "enter the value of r = 2\n",
            "30.0\n",
            "permutation 30.0\n",
            "combination 15.0\n"
          ],
          "name": "stdout"
        }
      ]
    },
    {
      "cell_type": "markdown",
      "metadata": {
        "id": "MICAAp_VhEhi",
        "colab_type": "text"
      },
      "source": [
        "#### (5) Write a function that converts a decimal number to binary number ?####\n",
        " "
      ]
    },
    {
      "cell_type": "code",
      "metadata": {
        "id": "KXYCSK_DDKDf",
        "colab_type": "code",
        "colab": {
          "base_uri": "https://localhost:8080/",
          "height": 51
        },
        "outputId": "54c13884-c120-41a0-af42-34cb55f902da"
      },
      "source": [
        "class Solution:\n",
        "    def __init__(self,number):\n",
        "      self.number = number\n",
        "    \n",
        "    def decimal_to_binary(self):\n",
        "      rem = 0\n",
        "      binary_number = \"\"\n",
        "      num = self.number\n",
        "      while num > 0:\n",
        "          rem = num%2\n",
        "          binary_number = str(rem) + binary_number \n",
        "          num = num//2\n",
        "      print(\"0\" + binary_number)\n",
        "number = int(input(\"enter the number to convert decimal number to binary number = \"))\n",
        "obj = Solution(number)\n",
        "obj.decimal_to_binary()"
      ],
      "execution_count": null,
      "outputs": [
        {
          "output_type": "stream",
          "text": [
            "enter the number to convert decimal number to binary number = 45\n",
            "0101101\n"
          ],
          "name": "stdout"
        }
      ]
    },
    {
      "cell_type": "markdown",
      "metadata": {
        "id": "WIY41dJsppv7",
        "colab_type": "text"
      },
      "source": [
        "####(6) Write a function cubesum() that accepts an integer and returns the sum of the cubes of individual digits of that number. Use this function to make functions PrintArmstrong() and isArmstrong() to print Armstrong numbers and to find whether is an Armstrong number ?####"
      ]
    },
    {
      "cell_type": "code",
      "metadata": {
        "id": "4oL-XYfXsWcm",
        "colab_type": "code",
        "colab": {
          "base_uri": "https://localhost:8080/",
          "height": 51
        },
        "outputId": "44d966c5-0bf2-4d57-9d78-ca5ca143df35"
      },
      "source": [
        "class Solution:\n",
        "    def __init__(self,number):\n",
        "        self.number = number\n",
        "    \n",
        "    def cubesum(self):\n",
        "        rem = 0\n",
        "        armstrong = 0\n",
        "        num = self.number\n",
        "        while num > 0:\n",
        "            rem = num%10\n",
        "            num = num //10\n",
        "            armstrong = armstrong + rem**3\n",
        "\n",
        "        self.isArmstrong(armstrong)\n",
        "\n",
        "    def isArmstrong(self,armstrong):\n",
        "        armstrong = False\n",
        "        if self.number == armstrong:\n",
        "            armstrong = True\n",
        "        else:\n",
        "            armstrong = False\n",
        "\n",
        "        self.PrintArmstrong(armstrong)\n",
        "\n",
        "    def PrintArmstrong(self,armstrong):\n",
        "        if armstrong:\n",
        "            print(\"{} is armstrong\", self.number)\n",
        "        else:\n",
        "            print(\"{} is not armstrong\", self.number) \n",
        "      \n",
        "number = int(input(\"enter the number = \"))\n",
        "obj = Solution(number)\n",
        "obj.cubesum()\n"
      ],
      "execution_count": null,
      "outputs": [
        {
          "output_type": "stream",
          "text": [
            "enter the number = 154\n",
            "{} is not armstrong 154\n"
          ],
          "name": "stdout"
        }
      ]
    },
    {
      "cell_type": "markdown",
      "metadata": {
        "id": "cdG1V_rUCP5B",
        "colab_type": "text"
      },
      "source": [
        "####(7) Write a function prodDigits() that inputs a number and returns the product of digits of that number ?####"
      ]
    },
    {
      "cell_type": "code",
      "metadata": {
        "id": "0OuIq5dxDVvH",
        "colab_type": "code",
        "colab": {
          "base_uri": "https://localhost:8080/",
          "height": 51
        },
        "outputId": "cfb6bc8f-d41a-4a98-f5b5-d6fa0037915f"
      },
      "source": [
        "class Solution:\n",
        "    def __init__(self,number):\n",
        "        self.number = number \n",
        "\n",
        "    def ProdDigits(self):\n",
        "        num = self.number\n",
        "        rem = 0\n",
        "        product = 1\n",
        "        while num>0:\n",
        "            rem =  num%10\n",
        "            num = num//10\n",
        "            product = product*rem\n",
        "        print(product)\n",
        "\n",
        "number = int(input(\"enter the number = \"))\n",
        "obj = Solution(number)\n",
        "obj.ProdDigits()"
      ],
      "execution_count": null,
      "outputs": [
        {
          "output_type": "stream",
          "text": [
            "enter the number = 55\n",
            "25\n"
          ],
          "name": "stdout"
        }
      ]
    },
    {
      "cell_type": "markdown",
      "metadata": {
        "id": "mQFK7kvLanGo",
        "colab_type": "text"
      },
      "source": [
        "####(8) If all digits of a number n are multiplied by each other repeating with the product, the one digit number obtained at last is called the multiplicative digital root of n. The number of times digits need to be multiplied to reach one digit is called the multiplicative persistance of n ?"
      ]
    },
    {
      "cell_type": "code",
      "metadata": {
        "id": "JOTdhWyWbRhM",
        "colab_type": "code",
        "colab": {
          "base_uri": "https://localhost:8080/",
          "height": 102
        },
        "outputId": "4a1a6f86-d29b-468e-cb8d-cd28f42774b7"
      },
      "source": [
        "class Solution:\n",
        "    def __init__(self,number):\n",
        "        self.number = number\n",
        "\n",
        "    def ProdDigits(self):\n",
        "        num,rem= self.number,0\n",
        "        while num > 0:\n",
        "            product =1\n",
        "            count = 1\n",
        "            while num > 0:\n",
        "                rem = num%10\n",
        "                num = num//10\n",
        "                product = product*rem\n",
        "                count += 1\n",
        "            num =product\n",
        "            if num>=0 and num<=10:\n",
        "                self.MDR(num)\n",
        "                break\n",
        "            else:\n",
        "                self.MDR(num)\n",
        "        self.MPersistence(count)  \n",
        "\n",
        "    def MDR(self,num):\n",
        "        print(\"MDR\", num)\n",
        "      \n",
        "    def MPersistence(self,count):\n",
        "        print(\"Mpersitence\", count) \n",
        "\n",
        "number = int(input(\"Enter the number\"))\n",
        "obj = Solution(number)\n",
        "obj.ProdDigits()"
      ],
      "execution_count": null,
      "outputs": [
        {
          "output_type": "stream",
          "text": [
            "Enter the number86\n",
            "MDR 48\n",
            "MDR 32\n",
            "MDR 6\n",
            "Mpersitence 3\n"
          ],
          "name": "stdout"
        }
      ]
    },
    {
      "cell_type": "markdown",
      "metadata": {
        "id": "cAMTSwFjuJYU",
        "colab_type": "text"
      },
      "source": [
        "#### (9) Write a function sumPdivisors() that finds the sum of proper divisors of a number. Proper divisors of a number are those numbers by which the number is divisible, except the number itself ?"
      ]
    },
    {
      "cell_type": "code",
      "metadata": {
        "id": "JTFpljk1NYOR",
        "colab_type": "code",
        "colab": {
          "base_uri": "https://localhost:8080/",
          "height": 51
        },
        "outputId": "43fa5c07-6778-497a-bf7b-bdba594c0d42"
      },
      "source": [
        "class Solution:\n",
        "    def __init__(self,number):\n",
        "      self.number = number\n",
        "    \n",
        "    def SumPdivision(self):\n",
        "        i=1\n",
        "        new_num = self.number//2\n",
        "        sum_of_proper_division= 0\n",
        "        while i<= new_num:\n",
        "            if self.number%i == 0: \n",
        "                sum_of_proper_division = sum_of_proper_division + i\n",
        "            i=i+1 \n",
        "        print(sum_of_proper_division)\n",
        "number = int(input(\"enter the number = \"))\n",
        "obj = Solution(number)\n",
        "obj.SumPdivision()"
      ],
      "execution_count": null,
      "outputs": [
        {
          "output_type": "stream",
          "text": [
            "enter the number = 36\n",
            "55\n"
          ],
          "name": "stdout"
        }
      ]
    },
    {
      "cell_type": "markdown",
      "metadata": {
        "id": "RFx5ZIDgf8Mr",
        "colab_type": "text"
      },
      "source": [
        "####10. A number is called perfect if the sum of proper divisors of that number is equal to the number ?"
      ]
    },
    {
      "cell_type": "code",
      "metadata": {
        "id": "5gBlXvngmcLM",
        "colab_type": "code",
        "colab": {
          "base_uri": "https://localhost:8080/",
          "height": 51
        },
        "outputId": "1b62bfc1-7aee-4078-fe38-9ff94920cf7e"
      },
      "source": [
        "class Solution:\n",
        "    def __init__(self,number):\n",
        "        self.number = number\n",
        "\n",
        "    def Perfect(self):\n",
        "        num = self.number//2\n",
        "        sum_ = 0\n",
        "        i = 1\n",
        "        while i <= num:\n",
        "            if self.number%i == 0:\n",
        "                sum_ = sum_ + i\n",
        "            i = i + 1\n",
        "        \n",
        "        if sum_ == self.number:\n",
        "            print(\"{} is perfect number\".format(self.number)) \n",
        "        else: \n",
        "            print(\"{} is not a perfect number\".format(self.number))\n",
        "number = int(input(\"Enter the number = \"))\n",
        "obj = Solution(number)\n",
        "obj.Perfect()"
      ],
      "execution_count": null,
      "outputs": [
        {
          "output_type": "stream",
          "text": [
            "Enter the number = 56\n",
            "56 is not a perfect number\n"
          ],
          "name": "stdout"
        }
      ]
    },
    {
      "cell_type": "markdown",
      "metadata": {
        "id": "2BAkxBn5fV57",
        "colab_type": "text"
      },
      "source": [
        "#### (11) Two different numbers are called amicable numbers if the sum of the proper divisors of each is equal to the other number? "
      ]
    },
    {
      "cell_type": "code",
      "metadata": {
        "id": "k_bmXbcJv2ou",
        "colab_type": "code",
        "colab": {
          "base_uri": "https://localhost:8080/",
          "height": 51
        },
        "outputId": "35a7e80b-866d-4e72-f08c-af7aa0f384ab"
      },
      "source": [
        "class Solution:\n",
        "    def __init__(self,number):\n",
        "        self.number = number\n",
        "\n",
        "    def amicableNumber(self):\n",
        "        i = 1  \n",
        "        num = self.number//2\n",
        "        sum_= 0\n",
        "        while i <= num:\n",
        "            if self.number%i == 0:\n",
        "                sum_ = sum_ + i\n",
        "            i = i+1  \n",
        "\n",
        "        number_2 = sum_\n",
        "        num = number_2//2\n",
        "        sum_2,i = 0,1 \n",
        "\n",
        "        while i <= num:\n",
        "            if number_2%i == 0:\n",
        "                sum_2 = sum_2 + i\n",
        "            i = i+1\n",
        "\n",
        "        if self.number == sum_2:\n",
        "            print(\"{} and {} amicable_number\".format(self.number,number_2)) \n",
        "\n",
        "        else:\n",
        "            print(\"{} and {} not amicable_number\".format(self.number,number_2))\n",
        "\n",
        "number = int(input(\"enter the number = \"))\n",
        "obj = Solution(number)\n",
        "obj.amicableNumber()\n"
      ],
      "execution_count": null,
      "outputs": [
        {
          "output_type": "stream",
          "text": [
            "enter the number = 145\n",
            "145 and 35 not amicable_number\n"
          ],
          "name": "stdout"
        }
      ]
    },
    {
      "cell_type": "markdown",
      "metadata": {
        "id": "bS5dJKXkdQUQ",
        "colab_type": "text"
      },
      "source": [
        "#### 12. Write a program which can filter odd numbers in a list by using filter function?\n"
      ]
    },
    {
      "cell_type": "code",
      "metadata": {
        "id": "u-dBtHDPdXfa",
        "colab_type": "code",
        "colab": {
          "base_uri": "https://localhost:8080/",
          "height": 54
        },
        "outputId": "fc539bf5-6301-40a5-d906-9775d96ffca7"
      },
      "source": [
        "class Solution:\n",
        "    def __init__(self,list_):\n",
        "        self.list_ = list_\n",
        "\n",
        "    def filterOddNumber(self):\n",
        "        result = filter(lambda x: x%2 !=0 ,self.list_)\n",
        "        print(list(result))\n",
        "\n",
        "list_ = []\n",
        "for i in range(100):\n",
        "    list_.append(i)\n",
        "obj = Solution(list_)\n",
        "obj.filterOddNumber()    "
      ],
      "execution_count": null,
      "outputs": [
        {
          "output_type": "stream",
          "text": [
            "[1, 3, 5, 7, 9, 11, 13, 15, 17, 19, 21, 23, 25, 27, 29, 31, 33, 35, 37, 39, 41, 43, 45, 47, 49, 51, 53, 55, 57, 59, 61, 63, 65, 67, 69, 71, 73, 75, 77, 79, 81, 83, 85, 87, 89, 91, 93, 95, 97, 99]\n"
          ],
          "name": "stdout"
        }
      ]
    },
    {
      "cell_type": "markdown",
      "metadata": {
        "id": "ZfqR_VWQojTR",
        "colab_type": "text"
      },
      "source": [
        "#### (13) Write a program which can map() to make a list whose elements are cube of elements in a given list ?\n"
      ]
    },
    {
      "cell_type": "code",
      "metadata": {
        "id": "_mBDmC4JosKy",
        "colab_type": "code",
        "colab": {
          "base_uri": "https://localhost:8080/",
          "height": 34
        },
        "outputId": "e718e338-d40b-4e10-89a1-0e859668691f"
      },
      "source": [
        "class Solution:\n",
        "\n",
        "    def cubeMap(list_):\n",
        "        return list_*list_*list_\n",
        "\n",
        "list_ = [1,2,3,4,5,6,7,8]\n",
        "result = map(cubeMap,list_)\n",
        "print(list(result))"
      ],
      "execution_count": null,
      "outputs": [
        {
          "output_type": "stream",
          "text": [
            "[1, 8, 27, 64, 125, 216, 343, 512]\n"
          ],
          "name": "stdout"
        }
      ]
    },
    {
      "cell_type": "markdown",
      "metadata": {
        "id": "MHxm5ri8_5WX",
        "colab_type": "text"
      },
      "source": [
        "#### 14. Write a program which can map() and filter() to make a list whose elements are cube of even number in a given list ?"
      ]
    },
    {
      "cell_type": "code",
      "metadata": {
        "id": "78leOILlBmmh",
        "colab_type": "code",
        "colab": {
          "base_uri": "https://localhost:8080/",
          "height": 54
        },
        "outputId": "987946eb-21a5-44f2-8316-761f7dc61228"
      },
      "source": [
        "class Solution:\n",
        "    def __init__(self,list_):\n",
        "        self.list_ = list_\n",
        "    \n",
        "    def filterEven(self):\n",
        "        result = list(filter(lambda x: x%2 == 0, list_))\n",
        "        return result\n",
        "    \n",
        "    def CubeEven(self,result):\n",
        "        return result*result*result      \n",
        "\n",
        "list_= []\n",
        "for i in range(1,100):\n",
        "    list_.append(i)\n",
        "obj = Solution(list_)\n",
        "result =obj.filterEven()\n",
        "Mapresult= map(obj.CubeEven,result)\n",
        "print(list(Mapresult))"
      ],
      "execution_count": null,
      "outputs": [
        {
          "output_type": "stream",
          "text": [
            "[8, 64, 216, 512, 1000, 1728, 2744, 4096, 5832, 8000, 10648, 13824, 17576, 21952, 27000, 32768, 39304, 46656, 54872, 64000, 74088, 85184, 97336, 110592, 125000, 140608, 157464, 175616, 195112, 216000, 238328, 262144, 287496, 314432, 343000, 373248, 405224, 438976, 474552, 512000, 551368, 592704, 636056, 681472, 729000, 778688, 830584, 884736, 941192]\n"
          ],
          "name": "stdout"
        }
      ]
    }
  ]
}
