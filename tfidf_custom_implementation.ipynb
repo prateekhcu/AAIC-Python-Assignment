{
 "cells": [
  {
   "cell_type": "markdown",
   "metadata": {
    "colab_type": "text",
    "id": "h9464I-uxLiw"
   },
   "source": [
    "# Assignment"
   ]
  },
  {
   "cell_type": "markdown",
   "metadata": {
    "colab_type": "text",
    "id": "IvLvmewlxLix"
   },
   "source": [
    "<font face='georgia'>\n",
    "    \n",
    "   <h4><strong>What does tf-idf mean?</strong></h4>\n",
    "\n",
    "   <p>    \n",
    "Tf-idf stands for <em>term frequency-inverse document frequency</em>, and the tf-idf weight is a weight often used in information retrieval and text mining. This weight is a statistical measure used to evaluate how important a word is to a document in a collection or corpus. The importance increases proportionally to the number of times a word appears in the document but is offset by the frequency of the word in the corpus. Variations of the tf-idf weighting scheme are often used by search engines as a central tool in scoring and ranking a document's relevance given a user query.\n",
    "</p>\n",
    "    \n",
    "   <p>\n",
    "One of the simplest ranking functions is computed by summing the tf-idf for each query term; many more sophisticated ranking functions are variants of this simple model.\n",
    "</p>\n",
    "    \n",
    "   <p>\n",
    "Tf-idf can be successfully used for stop-words filtering in various subject fields including text summarization and classification.\n",
    "</p>\n",
    "    \n",
    "</font>"
   ]
  },
  {
   "cell_type": "markdown",
   "metadata": {
    "colab_type": "text",
    "id": "4XLaGFUMxLiy"
   },
   "source": [
    "<font face='georgia'>\n",
    "    <h4><strong>How to Compute:</strong></h4>\n",
    "\n",
    "Typically, the tf-idf weight is composed by two terms: the first computes the normalized Term Frequency (TF), aka. the number of times a word appears in a document, divided by the total number of words in that document; the second term is the Inverse Document Frequency (IDF), computed as the logarithm of the number of the documents in the corpus divided by the number of documents where the specific term appears.\n",
    "\n",
    " <ul>\n",
    "    <li>\n",
    "<strong>TF:</strong> Term Frequency, which measures how frequently a term occurs in a document. Since every document is different in length, it is possible that a term would appear much more times in long documents than shorter ones. Thus, the term frequency is often divided by the document length (aka. the total number of terms in the document) as a way of normalization: <br>\n",
    "\n",
    "$TF(t) = \\frac{\\text{Number of times term t appears in a document}}{\\text{Total number of terms in the document}}.$\n",
    "</li>\n",
    "<li>\n",
    "<strong>IDF:</strong> Inverse Document Frequency, which measures how important a term is. While computing TF, all terms are considered equally important. However it is known that certain terms, such as \"is\", \"of\", and \"that\", may appear a lot of times but have little importance. Thus we need to weigh down the frequent terms while scale up the rare ones, by computing the following: <br>\n",
    "\n",
    "$IDF(t) = \\log_{e}\\frac{\\text{Total  number of documents}} {\\text{Number of documents with term t in it}}.$\n",
    "for numerical stabiltiy we will be changing this formula little bit\n",
    "$IDF(t) = \\log_{e}\\frac{\\text{Total  number of documents}} {\\text{Number of documents with term t in it}+1}.$\n",
    "</li>\n",
    "</ul>\n",
    "\n",
    "<br>\n",
    "<h4><strong>Example</strong></h4>\n",
    "<p>\n",
    "\n",
    "Consider a document containing 100 words wherein the word cat appears 3 times. The term frequency (i.e., tf) for cat is then (3 / 100) = 0.03. Now, assume we have 10 million documents and the word cat appears in one thousand of these. Then, the inverse document frequency (i.e., idf) is calculated as log(10,000,000 / 1,000) = 4. Thus, the Tf-idf weight is the product of these quantities: 0.03 * 4 = 0.12.\n",
    "</p>\n",
    "</font>"
   ]
  },
  {
   "cell_type": "markdown",
   "metadata": {
    "colab_type": "text",
    "id": "dg2ooa4DxLiz"
   },
   "source": [
    "## Task-1"
   ]
  },
  {
   "cell_type": "markdown",
   "metadata": {
    "colab_type": "text",
    "id": "TAcTjhO8xLiz"
   },
   "source": [
    "<font face='georgia'>\n",
    "    <h4><strong>1. Build a TFIDF Vectorizer & compare its results with Sklearn:</strong></h4>\n",
    "\n",
    "<ul>\n",
    "    <li> As a part of this task you will be implementing TFIDF vectorizer on a collection of text documents.</li>\n",
    "    <br>\n",
    "    <li> You should compare the results of your own implementation of TFIDF vectorizer with that of sklearns implemenation TFIDF vectorizer.</li>\n",
    "    <br>\n",
    "    <li> Sklearn does few more tweaks in the implementation of its version of TFIDF vectorizer, so to replicate the exact results you would need to add following things to your custom implementation of tfidf vectorizer:\n",
    "       <ol>\n",
    "        <li> Sklearn has its vocabulary generated from idf sroted in alphabetical order</li>\n",
    "        <li> Sklearn formula of idf is different from the standard textbook formula. Here the constant <strong>\"1\"</strong> is added to the numerator and denominator of the idf as if an extra document was seen containing every term in the collection exactly once, which prevents zero divisions.\n",
    "            \n",
    " $IDF(t) = 1+\\log_{e}\\frac{1\\text{ }+\\text{ Total  number of documents in collection}} {1+\\text{Number of documents with term t in it}}.$\n",
    "        </li>\n",
    "        <li> Sklearn applies L2-normalization on its output matrix.</li>\n",
    "        <li> The final output of sklearn tfidf vectorizer is a sparse matrix.</li>\n",
    "    </ol>\n",
    "    <br>\n",
    "    <li>Steps to approach this task:\n",
    "    <ol>\n",
    "        <li> You would have to write both fit and transform methods for your custom implementation of tfidf vectorizer.</li>\n",
    "        <li> Print out the alphabetically sorted voacb after you fit your data and check if its the same as that of the feature names from sklearn tfidf vectorizer. </li>\n",
    "        <li> Print out the idf values from your implementation and check if its the same as that of sklearns tfidf vectorizer idf values. </li>\n",
    "        <li> Once you get your voacb and idf values to be same as that of sklearns implementation of tfidf vectorizer, proceed to the below steps. </li>\n",
    "        <li> Make sure the output of your implementation is a sparse matrix. Before generating the final output, you need to normalize your sparse matrix using L2 normalization. You can refer to this link https://scikit-learn.org/stable/modules/generated/sklearn.preprocessing.normalize.html </li>\n",
    "        <li> After completing the above steps, print the output of your custom implementation and compare it with sklearns implementation of tfidf vectorizer.</li>\n",
    "        <li> To check the output of a single document in your collection of documents,  you can convert the sparse matrix related only to that document into dense matrix and print it.</li>\n",
    "        </ol>\n",
    "    </li>\n",
    "    <br>\n",
    "   </ul>\n",
    "\n",
    "  <p> <font color=\"#e60000\"><strong>Note-1: </strong></font> All the necessary outputs of sklearns tfidf vectorizer have been provided as reference in this notebook, you can compare your outputs as mentioned in the above steps, with these outputs.<br>\n",
    "   <font color=\"#e60000\"><strong>Note-2: </strong></font> The output of your custom implementation and that of sklearns implementation would match only with the collection of document strings provided to you as reference in this notebook. It would not match for strings that contain capital letters or punctuations, etc, because sklearn version of tfidf vectorizer deals with such strings in a different way. To know further details about how sklearn tfidf vectorizer works with such string, you can always refer to its official documentation.<br>\n",
    "   <font color=\"#e60000\"><strong>Note-3: </strong></font> During this task, it would be helpful for you to debug the code you write with print statements wherever necessary. But when you are finally submitting the assignment, make sure your code is readable and try not to print things which are not part of this task.\n",
    "    </p>"
   ]
  },
  {
   "cell_type": "markdown",
   "metadata": {
    "colab_type": "text",
    "id": "OnV82tg1xLi0"
   },
   "source": [
    "### Corpus"
   ]
  },
  {
   "cell_type": "code",
   "execution_count": 59,
   "metadata": {
    "colab": {},
    "colab_type": "code",
    "id": "bUsYm9wjxLi1"
   },
   "outputs": [],
   "source": [
    "## SkLearn# Collection of string documents\n",
    "\n",
    "corpus = [\n",
    "     'this is the first document',\n",
    "     'this document is the second document',\n",
    "     'and this is the third one',\n",
    "     'is this the first document',\n",
    "]\n"
   ]
  },
  {
   "cell_type": "markdown",
   "metadata": {
    "colab_type": "text",
    "id": "eLwmFZfKxLi4"
   },
   "source": [
    "### SkLearn Implementation"
   ]
  },
  {
   "cell_type": "code",
   "execution_count": 60,
   "metadata": {
    "colab": {},
    "colab_type": "code",
    "id": "Np4dfQOkxLi4"
   },
   "outputs": [],
   "source": [
    "from sklearn.feature_extraction.text import TfidfVectorizer\n",
    "vectorizer = TfidfVectorizer()\n",
    "vectorizer.fit(corpus)\n",
    "skl_output = vectorizer.transform(corpus)"
   ]
  },
  {
   "cell_type": "code",
   "execution_count": 61,
   "metadata": {
    "colab": {},
    "colab_type": "code",
    "id": "-7Om8YpYxLi6",
    "outputId": "0a3bd0f5-4424-4400-944f-4482a80bd799"
   },
   "outputs": [
    {
     "name": "stdout",
     "output_type": "stream",
     "text": [
      "['and', 'document', 'first', 'is', 'one', 'second', 'the', 'third', 'this']\n"
     ]
    }
   ],
   "source": [
    "# sklearn feature names, they are sorted in alphabetic order by default.\n",
    "\n",
    "print(vectorizer.get_feature_names())"
   ]
  },
  {
   "cell_type": "code",
   "execution_count": 62,
   "metadata": {
    "colab": {},
    "colab_type": "code",
    "id": "dTKplK96xLi-",
    "outputId": "53722fa2-6756-4aa0-f179-37b578bb6890"
   },
   "outputs": [
    {
     "name": "stdout",
     "output_type": "stream",
     "text": [
      "[1.91629073 1.22314355 1.51082562 1.         1.91629073 1.91629073\n",
      " 1.         1.91629073 1.        ]\n"
     ]
    }
   ],
   "source": [
    "# Here we will print the sklearn tfidf vectorizer idf values after applying the fit method\n",
    "# After using the fit function on the corpus the vocab has 9 words in it, and each has its idf value.\n",
    "\n",
    "print(vectorizer.idf_)"
   ]
  },
  {
   "cell_type": "code",
   "execution_count": 63,
   "metadata": {
    "colab": {},
    "colab_type": "code",
    "id": "-CTiWHygxLjA",
    "outputId": "8d5a9cde-2c29-4afe-f7b4-1547e88dba4f"
   },
   "outputs": [
    {
     "data": {
      "text/plain": [
       "(4, 9)"
      ]
     },
     "execution_count": 63,
     "metadata": {},
     "output_type": "execute_result"
    }
   ],
   "source": [
    "# shape of sklearn tfidf vectorizer output after applying transform method.\n",
    "\n",
    "skl_output.shape"
   ]
  },
  {
   "cell_type": "code",
   "execution_count": 64,
   "metadata": {
    "colab": {},
    "colab_type": "code",
    "id": "bDKEpbA-xLjD",
    "outputId": "87dafd65-5313-443f-8c6e-1b05cc8c2543"
   },
   "outputs": [
    {
     "name": "stdout",
     "output_type": "stream",
     "text": [
      "  (0, 8)\t0.38408524091481483\n",
      "  (0, 6)\t0.38408524091481483\n",
      "  (0, 3)\t0.38408524091481483\n",
      "  (0, 2)\t0.5802858236844359\n",
      "  (0, 1)\t0.46979138557992045\n"
     ]
    }
   ],
   "source": [
    "# sklearn tfidf values for first line of the above corpus.\n",
    "# Here the output is a sparse matrix\n",
    "\n",
    "print(skl_output[0])"
   ]
  },
  {
   "cell_type": "code",
   "execution_count": 65,
   "metadata": {
    "colab": {},
    "colab_type": "code",
    "id": "3QWo34hexLjF",
    "outputId": "cdc04e08-989f-4bdc-dd7f-f1c82a9f90be"
   },
   "outputs": [
    {
     "name": "stdout",
     "output_type": "stream",
     "text": [
      "[[0.         0.46979139 0.58028582 0.38408524 0.         0.\n",
      "  0.38408524 0.         0.38408524]]\n"
     ]
    }
   ],
   "source": [
    "# sklearn tfidf values for first line of the above corpus.\n",
    "# To understand the output better, here we are converting the sparse output matrix to dense matrix and printing it.\n",
    "# Notice that this output is normalized using L2 normalization. sklearn does this by default.\n",
    "\n",
    "print(skl_output[0].toarray())"
   ]
  },
  {
   "cell_type": "markdown",
   "metadata": {
    "colab_type": "text",
    "id": "qfIwx5LzxLjI"
   },
   "source": [
    "### Your custom implementation"
   ]
  },
  {
   "cell_type": "code",
   "execution_count": 66,
   "metadata": {
    "colab": {},
    "colab_type": "code",
    "id": "HjuCcJwXxLjJ"
   },
   "outputs": [
    {
     "name": "stdout",
     "output_type": "stream",
     "text": [
      "Results after fit unique word dict(Key,value(index))\n",
      " {'and': 0, 'document': 1, 'first': 2, 'is': 3, 'one': 4, 'second': 5, 'the': 6, 'third': 7, 'this': 8}\n"
     ]
    }
   ],
   "source": [
    "# Write your code here.\n",
    "# Make sure its well documented and readble with appropriate comments.\n",
    "# Compare your results with the above sklearn tfidf vectorizer\n",
    "# You are not supposed to use any other library apart from the ones given below\n",
    "\n",
    "from collections import Counter\n",
    "from tqdm import tqdm\n",
    "from scipy.sparse import csr_matrix\n",
    "import math\n",
    "import operator\n",
    "from sklearn.preprocessing import normalize\n",
    "import numpy\n",
    "import warnings\n",
    "def fit(corpus):\n",
    "    unique_word = set()\n",
    "    if isinstance(corpus,(list,)):\n",
    "        for row in corpus:\n",
    "            for word in row.split(\" \"):\n",
    "                unique_word.add(word)\n",
    "        unique_word = sorted(list(unique_word))\n",
    "        unique_word = {j:i for i,j in enumerate(unique_word)}\n",
    "        return unique_word\n",
    "    else:\n",
    "        print(\"you need to pass list to the sentence\")\n",
    "fit_results = fit(corpus)\n",
    "print(\"Results after fit unique word dict(Key,value(index))\\n\",fit_results)"
   ]
  },
  {
   "cell_type": "code",
   "execution_count": 67,
   "metadata": {},
   "outputs": [
    {
     "name": "stdout",
     "output_type": "stream",
     "text": [
      "Results after idf\n",
      "\n",
      " {'and': 1.916290731874155, 'document': 1.2231435513142097, 'first': 1.5108256237659907, 'is': 1.0, 'one': 1.916290731874155, 'second': 1.916290731874155, 'the': 1.0, 'third': 1.916290731874155, 'this': 1.0}\n"
     ]
    }
   ],
   "source": [
    "def idf(fit_results,corpus):\n",
    "    if isinstance(fit_results,(dict,)):\n",
    "        N=len(corpus)\n",
    "        idf_list = {}\n",
    "        for word in fit_results:\n",
    "            count = 0\n",
    "            for row in corpus:   \n",
    "                if row.find(word)!=-1:\n",
    "                    count = count + 1\n",
    "            idf_list[word] = 1+ math.log((N+1)/(count+1))\n",
    "        return idf_list\n",
    "\n",
    "    \n",
    "def transfrom(corpus,idf_result):\n",
    "    sparse_matrix = csr_matrix( (len(corpus), len(idf_result)), dtype=numpy.float64)\n",
    "    for row in range(0,len(corpus)):\n",
    "        count_words = Counter(corpus[row].split())\n",
    "        for word in corpus[row].split():\n",
    "            if word in idf_result.keys():\n",
    "                tf_idf = ( count_words[word]/len(corpus[row].split()))* idf_result[word]\n",
    "                sparse_matrix[row, fit_results[word]] = tf_idf\n",
    "        output = normalize(sparse_matrix, norm='l2', axis=1, copy=True, return_norm=False)\n",
    "    return output\n",
    "    \n",
    "idf_result = idf(fit_results,corpus)\n",
    "print(\"Results after idf\\n\\n\",idf_result)\n",
    "\n"
   ]
  },
  {
   "cell_type": "code",
   "execution_count": 68,
   "metadata": {},
   "outputs": [
    {
     "name": "stdout",
     "output_type": "stream",
     "text": [
      "  (0, 1)\t0.4697913855799205\n",
      "  (0, 2)\t0.580285823684436\n",
      "  (0, 3)\t0.3840852409148149\n",
      "  (0, 6)\t0.3840852409148149\n",
      "  (0, 8)\t0.3840852409148149\n"
     ]
    },
    {
     "name": "stderr",
     "output_type": "stream",
     "text": [
      "/opt/anaconda3/lib/python3.8/site-packages/scipy/sparse/_index.py:84: SparseEfficiencyWarning: Changing the sparsity structure of a csr_matrix is expensive. lil_matrix is more efficient.\n",
      "  self._set_intXint(row, col, x.flat[0])\n"
     ]
    }
   ],
   "source": [
    "def transfrom(corpus,fit_results,idf_result):\n",
    "    sparse_matrix = csr_matrix( (len(corpus), len(idf_result)), dtype=numpy.float64)\n",
    "    for row in range(0,len(corpus)):\n",
    "        count_words = Counter(corpus[row].split())\n",
    "        for word in corpus[row].split():\n",
    "            if word in idf_result.keys():\n",
    "                tf_idf = ( count_words[word]/len(corpus[row].split()))* idf_result[word]\n",
    "                sparse_matrix[row, fit_results[word]] = tf_idf\n",
    "        output = normalize(sparse_matrix, norm='l2', axis=1, copy=True, return_norm=False)\n",
    "    return output\n",
    "transfrom = transfrom(corpus,fit_results,idf_result)\n",
    "print(transfrom[0])"
   ]
  },
  {
   "cell_type": "markdown",
   "metadata": {
    "colab_type": "text",
    "id": "MMxBmVZExLjK"
   },
   "source": [
    "## Task-2"
   ]
  },
  {
   "cell_type": "markdown",
   "metadata": {
    "colab_type": "text",
    "id": "51j_OtqAxLjL"
   },
   "source": [
    "<font face='georgia'>\n",
    "    <h4><strong>2. Implement max features functionality:</strong></h4>\n",
    "\n",
    "<ul>\n",
    "    <li> As a part of this task you have to modify your fit and transform functions so that your vocab will contain only 50 terms with top idf scores.</li>\n",
    "    <br>\n",
    "    <li>This task is similar to your previous task, just that here your vocabulary is limited to only top 50 features names based on their idf values. Basically your output will have exactly 50 columns and the number of rows will depend on the number of documents you have in your corpus.</li>\n",
    "    <br>\n",
    "    <li>Here you will be give a pickle file, with file name <strong>cleaned_strings</strong>. You would have to load the corpus from this file and use it as input to your tfidf vectorizer.</li>\n",
    "    <br>\n",
    "    <li>Steps to approach this task:\n",
    "    <ol>\n",
    "        <li> You would have to write both fit and transform methods for your custom implementation of tfidf vectorizer, just like in the previous task. Additionally, here you have to limit the number of features generated to 50 as described above.</li>\n",
    "        <li> Now sort your vocab based in descending order of idf values and print out the words in the sorted voacb after you fit your data. Here you should be getting only 50 terms in your vocab. And make sure to print idf values for each term in your vocab. </li>\n",
    "        <li> Make sure the output of your implementation is a sparse matrix. Before generating the final output, you need to normalize your sparse matrix using L2 normalization. You can refer to this link https://scikit-learn.org/stable/modules/generated/sklearn.preprocessing.normalize.html </li>\n",
    "        <li> Now check the output of a single document in your collection of documents,  you can convert the sparse matrix related only to that document into dense matrix and print it. And this dense matrix should contain 1 row and 50 columns. </li>\n",
    "        </ol>\n",
    "    </li>\n",
    "    <br>\n",
    "   </ul>"
   ]
  },
  {
   "cell_type": "code",
   "execution_count": 69,
   "metadata": {
    "colab": {},
    "colab_type": "code",
    "id": "NHxPLlwNxLjL",
    "outputId": "9abd8e08-0e24-4975-9a13-4d3636d60323"
   },
   "outputs": [
    {
     "name": "stdout",
     "output_type": "stream",
     "text": [
      "{'aailiyah': 0, 'abandoned': 1, 'ability': 4, 'abroad': 5, 'absolutely': 14, 'abstruse': 15, 'abysmal': 17, 'academy': 18, 'accents': 19, 'accessible': 20, 'acclaimed': 21, 'accolades': 22, 'accurate': 23, 'accurately': 24, 'accused': 26, 'achievement': 28, 'achille': 29, 'ackerman': 30, 'act': 32, 'acted': 35, 'acting': 78, 'action': 85, 'actions': 86, 'actor': 96, 'actors': 115, 'actress': 118, 'actresses': 121, 'actually': 131, 'adams': 132, 'adaptation': 134, 'add': 135, 'added': 136, 'addition': 139, 'admins': 140, 'admiration': 141, 'admitted': 142, 'adorable': 146, 'adrift': 147, 'adventure': 148, 'advise': 150, 'aerial': 153, 'aesthetically': 154, 'affected': 155, 'affleck': 156, 'afraid': 158, 'africa': 160, 'afternoon': 161, 'age': 165, 'aged': 166, 'ages': 167, 'ago': 169, 'agree': 170, 'agreed': 171, 'aimless': 172, 'air': 174, 'aired': 175, 'akasha': 176, 'akin': 177, 'alert': 178, 'alexander': 180, 'alike': 181, 'allison': 182, 'allow': 183, 'allowing': 184, 'almost': 193, 'along': 196, 'alongside': 197, 'already': 201, 'also': 226, 'although': 229, 'always': 233, 'amateurish': 234, 'amaze': 235, 'amazed': 236, 'amazing': 245, 'amazingly': 246, 'america': 248, 'american': 250, 'americans': 252, 'among': 254, 'amount': 259, 'amusing': 260, 'amust': 261, 'anatomist': 262, 'angel': 265, 'angela': 266, 'angeles': 268, 'angelina': 269, 'angle': 270, 'angles': 272, 'angry': 273, 'anguish': 274, 'angus': 275, 'animals': 276, 'animated': 277, 'animation': 280, 'anita': 281, 'ann': 282, 'anne': 285, 'anniversary': 286, 'annoying': 292, 'another': 299, 'anthony': 300, 'antithesis': 301, 'anyone': 316, 'anything': 324, 'anyway': 325, 'apart': 326, 'appalling': 328, 'appealing': 330, 'appearance': 333, 'appears': 334, 'applauded': 335, 'applause': 336, 'appreciate': 340, 'appropriate': 341, 'apt': 342, 'argued': 343, 'armageddon': 344, 'armand': 345, 'around': 352, 'array': 353, 'art': 366, 'articulated': 367, 'artiness': 368, 'artist': 370, 'artistic': 371, 'artless': 372, 'arts': 373, 'aside': 375, 'ask': 377, 'asleep': 379, 'aspect': 381, 'aspects': 382, 'ass': 384, 'assante': 385, 'assaulted': 386, 'assistant': 388, 'astonishingly': 389, 'astronaut': 391, 'atmosphere': 392, 'atrocious': 393, 'atrocity': 394, 'attempt': 398, 'attempted': 399, 'attempting': 400, 'attempts': 402, 'attention': 405, 'attractive': 406, 'audience': 411, 'audio': 412, 'aurv': 413, 'austen': 414, 'austere': 415, 'author': 416, 'average': 419, 'aversion': 420, 'avoid': 428, 'avoided': 429, 'award': 430, 'awarded': 431, 'awards': 432, 'away': 437, 'awesome': 440, 'awful': 454, 'awkwardly': 455, 'aye': 456, 'baaaaaad': 457, 'babbling': 458, 'babie': 459, 'baby': 460, 'babysitting': 461, 'back': 465, 'backdrop': 466, 'backed': 467, 'bad': 538, 'badly': 540, 'bag': 541, 'bailey': 542, 'bakery': 543, 'balance': 545, 'balanced': 547, 'ball': 548, 'ballet': 549, 'balls': 550, 'band': 551, 'barcelona': 552, 'barely': 556, 'barking': 557, 'barney': 558, 'barren': 559, 'based': 560, 'basic': 561, 'basically': 563, 'bat': 564, 'bates': 565, 'baxendale': 566, 'bear': 568, 'beautiful': 579, 'beautifully': 581, 'bec': 582, 'became': 584, 'bechard': 585, 'become': 589, 'becomes': 590, 'began': 592, 'begin': 594, 'beginning': 598, 'behind': 599, 'behold': 600, 'bela': 601, 'believable': 607, 'believe': 615, 'believed': 616, 'bell': 617, 'bellucci': 618, 'belly': 619, 'belmondo': 620, 'ben': 621, 'bendingly': 622, 'bennett': 623, 'bergen': 624, 'bertolucci': 625, 'best': 650, 'better': 668, 'betty': 670, 'beware': 671, 'beyond': 676, 'bible': 677, 'big': 687, 'biggest': 688, 'billy': 691, 'biographical': 692, 'bipolarity': 693, 'bit': 698, 'bitchy': 699, 'black': 709, 'blah': 710, 'blake': 711, 'bland': 712, 'blandly': 713, 'blare': 714, 'blatant': 715, 'blew': 716, 'blood': 718, 'blown': 719, 'blue': 720, 'blush': 721, 'boasts': 722, 'bob': 723, 'body': 724, 'bohemian': 725, 'boiling': 726, 'bold': 728, 'bombardments': 729, 'bond': 730, 'bonding': 731, 'bonus': 732, 'bonuses': 733, 'boobs': 734, 'boogeyman': 735, 'book': 739, 'boost': 740, 'bop': 741, 'bordered': 742, 'borderlines': 743, 'borders': 744, 'bore': 747, 'bored': 751, 'boring': 761, 'borrowed': 762, 'boss': 763, 'bother': 765, 'bothersome': 766, 'bought': 769, 'box': 770, 'boyfriend': 771, 'boyle': 772, 'brain': 775, 'brainsucking': 776, 'brat': 777, 'breaking': 778, 'breeders': 779, 'brevity': 780, 'brian': 782, 'brief': 784, 'brigand': 785, 'bright': 786, 'brilliance': 789, 'brilliant': 795, 'brilliantly': 796, 'bring': 798, 'brings': 799, 'broad': 800, 'broke': 801, 'brooding': 802, 'brother': 803, 'brutal': 804, 'buddy': 805, 'budget': 812, 'buffalo': 813, 'buffet': 814, 'build': 815, 'builders': 816, 'buildings': 817, 'built': 818, 'bullock': 820, 'bully': 821, 'bunch': 823, 'burton': 824, 'business': 826, 'buy': 828, 'cable': 829, 'cailles': 830, 'california': 831, 'call': 833, 'called': 836, 'calls': 837, 'came': 841, 'cameo': 842, 'camera': 852, 'camerawork': 854, 'camp': 855, 'campy': 856, 'canada': 858, 'cancan': 859, 'candace': 860, 'candle': 861, 'cannot': 863, 'cant': 864, 'captain': 865, 'captured': 866, 'captures': 867, 'car': 868, 'card': 869, 'cardboard': 871, 'cardellini': 872, 'care': 877, 'carol': 878, 'carrell': 879, 'carries': 880, 'carry': 881, 'cars': 882, 'cartoon': 885, 'cartoons': 887, 'case': 889, 'cases': 890, 'cast': 908, 'casted': 909, 'casting': 915, 'cat': 916, 'catchy': 917, 'caught': 918, 'cause': 920, 'ceases': 922, 'celebration': 923, 'celebrity': 924, 'celluloid': 925, 'centers': 926, 'central': 928, 'century': 930, 'certain': 931, 'certainly': 939, 'cgi': 940, 'chalkboard': 941, 'challenges': 942, 'chance': 944, 'change': 946, 'changes': 947, 'changing': 948, 'channel': 949, 'character': 973, 'characterisation': 974, 'characters': 1009, 'charisma': 1011, 'charismatic': 1012, 'charles': 1016, 'charlie': 1017, 'charm': 1019, 'charming': 1022, 'chase': 1023, 'chasing': 1024, 'cheap': 1031, 'cheaply': 1032, 'check': 1033, 'checking': 1036, 'cheek': 1037, 'cheekbones': 1038, 'cheerfull': 1039, 'cheerless': 1040, 'cheesiness': 1041, 'cheesy': 1043, 'chemistry': 1047, 'chick': 1049, 'child': 1054, 'childhood': 1056, 'children': 1059, 'childrens': 1060, 'chills': 1061, 'chilly': 1063, 'chimp': 1064, 'chodorov': 1065, 'choice': 1067, 'choices': 1068, 'choked': 1069, 'chosen': 1070, 'chow': 1071, 'christmas': 1073, 'christopher': 1074, 'church': 1076, 'cinema': 1084, 'cinematic': 1085, 'cinematographers': 1086, 'cinematography': 1096, 'circumstances': 1097, 'class': 1098, 'classic': 1104, 'classical': 1105, 'clear': 1106, 'clearly': 1108, 'clever': 1113, 'clich': 1116, 'cliche': 1117, 'clients': 1118, 'cliff': 1119, 'climax': 1120, 'close': 1123, 'closed': 1124, 'clothes': 1125, 'club': 1126, 'coach': 1127, 'coal': 1128, 'coastal': 1129, 'coaster': 1130, 'coherent': 1131, 'cold': 1132, 'cole': 1134, 'collect': 1135, 'collective': 1136, 'colored': 1137, 'colorful': 1138, 'colours': 1139, 'columbo': 1140, 'come': 1145, 'comedic': 1146, 'comedy': 1153, 'comes': 1157, 'comfortable': 1158, 'comforting': 1159, 'comical': 1160, 'coming': 1163, 'commands': 1164, 'comment': 1165, 'commentary': 1166, 'commented': 1167, 'comments': 1168, 'commercial': 1169, 'community': 1170, 'company': 1171, 'compelling': 1173, 'competent': 1174, 'complete': 1177, 'completed': 1178, 'completely': 1183, 'complex': 1185, 'complexity': 1186, 'composed': 1187, 'composition': 1189, 'comprehensible': 1190, 'compromise': 1191, 'computer': 1193, 'concentrate': 1194, 'conception': 1195, 'conceptually': 1196, 'concerning': 1197, 'concerns': 1198, 'concert': 1199, 'conclusion': 1202, 'condescends': 1203, 'confidence': 1204, 'configuration': 1205, 'confirm': 1206, 'conflict': 1209, 'confuses': 1210, 'confusing': 1211, 'connections': 1212, 'connery': 1214, 'connor': 1215, 'conrad': 1216, 'consequences': 1217, 'consider': 1221, 'considerable': 1222, 'considered': 1223, 'considering': 1225, 'considers': 1226, 'consistent': 1227, 'consolations': 1228, 'constant': 1229, 'constantine': 1230, 'constructed': 1231, 'contained': 1233, 'containing': 1234, 'contains': 1236, 'content': 1237, 'continually': 1238, 'continuation': 1239, 'continue': 1240, 'continuity': 1242, 'continuously': 1243, 'contract': 1244, 'contrast': 1246, 'contributing': 1247, 'contributory': 1248, 'contrived': 1249, 'control': 1251, 'controversy': 1252, 'convention': 1253, 'convey': 1254, 'convince': 1255, 'convincing': 1259, 'convoluted': 1260, 'cool': 1267, 'coppola': 1269, 'cords': 1270, 'core': 1272, 'corn': 1273, 'corny': 1274, 'correct': 1275, 'cost': 1277, 'costs': 1281, 'costumes': 1283, 'cotton': 1284, 'could': 1310, 'couple': 1311, 'course': 1314, 'court': 1315, 'courtroom': 1317, 'cover': 1321, 'cowardice': 1322, 'cox': 1323, 'crackles': 1324, 'crafted': 1326, 'crap': 1332, 'crash': 1333, 'crashed': 1334, 'crayon': 1335, 'crayons': 1336, 'crazy': 1338, 'create': 1340, 'created': 1344, 'creates': 1346, 'creative': 1347, 'creativity': 1348, 'creature': 1349, 'credible': 1350, 'credit': 1353, 'credits': 1354, 'crew': 1355, 'crime': 1356, 'crisp': 1357, 'critic': 1358, 'critical': 1359, 'crocdodile': 1360, 'crocs': 1361, 'cross': 1362, 'crowd': 1364, 'crowe': 1365, 'cruel': 1366, 'cruise': 1367, 'cry': 1368, 'cult': 1373, 'culture': 1375, 'curtain': 1376, 'custer': 1377, 'cute': 1379, 'cutest': 1380, 'cutie': 1381, 'cutouts': 1382, 'cuts': 1383, 'cutting': 1384, 'dads': 1385, 'damian': 1386, 'damn': 1388, 'dance': 1392, 'dancing': 1395, 'dangerous': 1397, 'dark': 1399, 'darren': 1400, 'daughter': 1402, 'daughters': 1403, 'day': 1408, 'days': 1409, 'dead': 1411, 'deadly': 1412, 'deadpan': 1413, 'deal': 1414, 'dealt': 1415, 'death': 1419, 'debated': 1420, 'debbie': 1421, 'debits': 1422, 'debut': 1423, 'decay': 1425, 'decent': 1428, 'decidely': 1429, 'decipher': 1430, 'decisions': 1431, 'dedication': 1433, 'dee': 1434, 'deep': 1435, 'deeply': 1437, 'defensemen': 1438, 'defined': 1439, 'definitely': 1448, 'delete': 1449, 'delight': 1451, 'delightful': 1452, 'delights': 1453, 'deliver': 1454, 'delivered': 1455, 'delivering': 1457, 'delivers': 1460, 'dependant': 1461, 'depending': 1462, 'depends': 1463, 'depicted': 1464, 'depicts': 1466, 'depressing': 1468, 'depth': 1472, 'derivative': 1473, 'describe': 1475, 'describes': 1476, 'desert': 1477, 'deserved': 1479, 'deserves': 1481, 'deserving': 1483, 'design': 1484, 'designed': 1485, 'designer': 1486, 'desperately': 1487, 'desperation': 1488, 'despised': 1489, 'despite': 1491, 'destroy': 1492, 'detailing': 1493, 'details': 1494, 'develop': 1495, 'development': 1496, 'developments': 1497, 'diabetic': 1498, 'dialog': 1501, 'dialogs': 1502, 'dialogue': 1515, 'diaper': 1516, 'dickens': 1517, 'difference': 1518, 'different': 1523, 'dignity': 1524, 'dimensional': 1525, 'direct': 1526, 'directed': 1529, 'directing': 1538, 'direction': 1543, 'director': 1555, 'directorial': 1557, 'directors': 1559, 'disappointed': 1565, 'disappointing': 1567, 'disappointment': 1569, 'disaster': 1571, 'disbelief': 1572, 'discomfort': 1573, 'discovering': 1575, 'discovery': 1576, 'disgrace': 1577, 'disgusting': 1578, 'dislike': 1580, 'disliked': 1582, 'disney': 1583, 'disparate': 1584, 'distant': 1585, 'distinction': 1586, 'distorted': 1587, 'distract': 1588, 'distressed': 1589, 'disturbing': 1591, 'diving': 1592, 'doctor': 1594, 'documentaries': 1596, 'documentary': 1599, 'dodge': 1600, 'dogs': 1602, 'dollars': 1603, 'dominated': 1604, 'done': 1612, 'donlevy': 1613, 'dont': 1614, 'doomed': 1615, 'dose': 1616, 'doubt': 1617, 'downs': 1618, 'dozen': 1619, 'dracula': 1620, 'draft': 1621, 'drag': 1622, 'drago': 1626, 'drama': 1636, 'dramatic': 1638, 'drawings': 1639, 'drawn': 1640, 'dream': 1641, 'dreams': 1643, 'dreary': 1644, 'dribble': 1645, 'drift': 1646, 'drifting': 1647, 'drive': 1650, 'drooling': 1651, 'dropped': 1652, 'dry': 1653, 'due': 1656, 'duet': 1658, 'dull': 1660, 'dumb': 1662, 'dumbest': 1663, 'duper': 1664, 'duris': 1665, 'dustin': 1666, 'dvd': 1669, 'dwight': 1670, 'dysfunction': 1671, 'earlier': 1674, 'early': 1677, 'earth': 1679, 'easily': 1683, 'easy': 1687, 'eating': 1688, 'ebay': 1689, 'ebola': 1690, 'eccleston': 1691, 'edge': 1693, 'editing': 1699, 'edition': 1700, 'educational': 1701, 'edward': 1702, 'effect': 1703, 'effective': 1706, 'effects': 1715, 'effort': 1716, 'efforts': 1717, 'egotism': 1718, 'eighth': 1719, 'eiko': 1720, 'either': 1724, 'elaborately': 1725, 'elderly': 1726, 'elegant': 1727, 'element': 1729, 'elias': 1730, 'eloquently': 1731, 'else': 1736, 'elsewhere': 1737, 'embarrassed': 1738, 'embarrassing': 1741, 'embassy': 1742, 'emerge': 1743, 'emilio': 1745, 'emily': 1747, 'emoting': 1748, 'emotion': 1749, 'emotionally': 1750, 'emotions': 1753, 'emperor': 1754, 'empowerment': 1755, 'emptiness': 1756, 'empty': 1758, 'enchanting': 1759, 'end': 1770, 'endearing': 1771, 'ended': 1772, 'ending': 1783, 'endlessly': 1784, 'ends': 1785, 'energetic': 1786, 'energy': 1790, 'engaging': 1792, 'english': 1793, 'enhanced': 1794, 'enjoy': 1799, 'enjoyable': 1802, 'enjoyed': 1811, 'enjoyment': 1812, 'enough': 1823, 'enter': 1824, 'enterprise': 1825, 'entertained': 1826, 'entertaining': 1830, 'entire': 1836, 'entirely': 1838, 'entrance': 1839, 'episode': 1842, 'episodes': 1843, 'equivalent': 1844, 'era': 1846, 'errol': 1848, 'errors': 1849, 'escalating': 1850, 'escapism': 1851, 'especially': 1859, 'essence': 1860, 'establish': 1861, 'established': 1862, 'estate': 1863, 'estevez': 1865, 'etc': 1868, 'european': 1870, 'evaluate': 1871, 'even': 1911, 'events': 1912, 'ever': 1941, 'every': 1961, 'everybody': 1962, 'everyone': 1970, 'everything': 1986, 'everywhere': 1987, 'evidently': 1988, 'evil': 1990, 'evinced': 1991, 'evokes': 1992, 'exactly': 1995, 'exaggerating': 1996, 'example': 1999, 'excellent': 2015, 'excellently': 2017, 'except': 2018, 'exceptional': 2020, 'exceptionally': 2021, 'excerpts': 2022, 'excessively': 2023, 'exchange': 2024, 'exciting': 2025, 'excruciatingly': 2026, 'excuse': 2027, 'excuses': 2028, 'executed': 2029, 'exemplars': 2030, 'existent': 2031, 'existential': 2032, 'expansive': 2033, 'expect': 2037, 'expectations': 2038, 'expected': 2039, 'expecting': 2040, 'experience': 2047, 'experiences': 2048, 'expert': 2049, 'explain': 2051, 'explains': 2052, 'explanation': 2054, 'exploit': 2055, 'explorations': 2056, 'explosion': 2057, 'expression': 2058, 'exquisite': 2060, 'extant': 2061, 'exteriors': 2062, 'extraneous': 2063, 'extraordinary': 2064, 'extremely': 2068, 'eye': 2070, 'eyes': 2074, 'fabulous': 2075, 'face': 2080, 'faces': 2081, 'facial': 2082, 'facing': 2083, 'fact': 2091, 'factory': 2092, 'failed': 2093, 'fails': 2098, 'fair': 2099, 'fairly': 2100, 'faithful': 2101, 'fall': 2103, 'falling': 2104, 'falls': 2105, 'falsely': 2106, 'falwell': 2107, 'fame': 2108, 'famed': 2109, 'family': 2116, 'famous': 2117, 'fan': 2120, 'fanciful': 2121, 'fans': 2126, 'fantastic': 2129, 'fantasy': 2130, 'far': 2137, 'farce': 2138, 'fare': 2139, 'fascinated': 2140, 'fascinating': 2142, 'fascination': 2143, 'fashioned': 2144, 'fast': 2149, 'faster': 2150, 'fat': 2152, 'father': 2154, 'faultless': 2155, 'fausa': 2156, 'faux': 2159, 'favorite': 2160, 'favourite': 2163, 'fear': 2166, 'feature': 2167, 'features': 2170, 'feel': 2173, 'feeling': 2183, 'feelings': 2184, 'feet': 2185, 'feisty': 2186, 'fellowes': 2187, 'felt': 2192, 'female': 2194, 'females': 2195, 'ferry': 2196, 'fest': 2197, 'fields': 2198, 'fifteen': 2200, 'fifties': 2201, 'fill': 2202, 'film': 2365, 'filmed': 2367, 'filmiing': 2368, 'filmmaker': 2369, 'filmography': 2370, 'films': 2394, 'final': 2397, 'finale': 2398, 'finally': 2401, 'financial': 2402, 'find': 2412, 'finds': 2413, 'fine': 2418, 'finest': 2419, 'fingernails': 2420, 'finished': 2421, 'fire': 2422, 'first': 2433, 'fish': 2434, 'fishnet': 2435, 'fisted': 2436, 'fit': 2438, 'five': 2440, 'flag': 2441, 'flakes': 2442, 'flaming': 2443, 'flashbacks': 2444, 'flat': 2446, 'flaw': 2447, 'flawed': 2449, 'flaws': 2451, 'fleshed': 2452, 'flick': 2458, 'flicks': 2459, 'florida': 2460, 'flowed': 2461, 'flying': 2462, 'flynn': 2464, 'focus': 2466, 'fodder': 2467, 'follow': 2471, 'following': 2473, 'follows': 2474, 'foolish': 2475, 'footage': 2478, 'football': 2479, 'force': 2480, 'forced': 2481, 'forces': 2483, 'ford': 2484, 'foreign': 2485, 'foreigner': 2486, 'forever': 2487, 'forget': 2489, 'forgettable': 2490, 'forgetting': 2491, 'forgot': 2492, 'forgotten': 2493, 'form': 2495, 'format': 2496, 'former': 2497, 'fort': 2498, 'forth': 2499, 'forwarded': 2500, 'found': 2508, 'four': 2509, 'fox': 2511, 'foxx': 2512, 'frances': 2513, 'francis': 2514, 'frankly': 2516, 'free': 2519, 'freedom': 2521, 'freeman': 2522, 'french': 2524, 'fresh': 2526, 'freshness': 2527, 'friends': 2529, 'friendship': 2530, 'frightening': 2533, 'front': 2535, 'frontier': 2536, 'frost': 2537, 'frustration': 2538, 'fulci': 2540, 'fulfilling': 2541, 'full': 2546, 'fully': 2547, 'fumbling': 2548, 'fun': 2553, 'function': 2554, 'fundamental': 2555, 'funniest': 2556, 'funny': 2575, 'future': 2577, 'gabriel': 2578, 'gadget': 2579, 'gain': 2580, 'gake': 2581, 'galley': 2582, 'gallon': 2583, 'game': 2592, 'games': 2595, 'garage': 2596, 'garbage': 2603, 'garbo': 2604, 'garfield': 2605, 'gas': 2606, 'gaudi': 2607, 'gave': 2612, 'gay': 2613, 'geek': 2614, 'gem': 2617, 'general': 2618, 'generally': 2622, 'generates': 2623, 'generic': 2624, 'genius': 2626, 'genre': 2628, 'gently': 2629, 'genuine': 2632, 'george': 2633, 'gerardo': 2634, 'gere': 2635, 'get': 2649, 'gets': 2655, 'getting': 2656, 'ghibili': 2657, 'giallo': 2660, 'gibberish': 2661, 'gifted': 2662, 'giovanni': 2663, 'girl': 2670, 'girlfriend': 2672, 'girls': 2673, 'girolamo': 2674, 'give': 2685, 'given': 2688, 'gives': 2694, 'giving': 2695, 'glad': 2699, 'glance': 2701, 'glasses': 2702, 'gloriously': 2703, 'goalies': 2704, 'god': 2708, 'goes': 2710, 'going': 2720, 'gone': 2721, 'gonna': 2723, 'good': 2781, 'gore': 2782, 'goremeister': 2783, 'gorman': 2784, 'gosh': 2785, 'got': 2793, 'goth': 2794, 'gotta': 2795, 'gotten': 2796, 'government': 2797, 'grace': 2800, 'grade': 2801, 'gradually': 2802, 'grainy': 2803, 'granted': 2804, 'graphics': 2807, 'grasp': 2808, 'grates': 2809, 'great': 2850, 'greatest': 2853, 'greatness': 2854, 'green': 2855, 'greenstreet': 2856, 'grew': 2857, 'grim': 2858, 'grimes': 2859, 'gripping': 2861, 'groove': 2862, 'gross': 2863, 'ground': 2864, 'guards': 2865, 'guess': 2870, 'guests': 2871, 'guilt': 2872, 'gung': 2873, 'guy': 2875, 'guys': 2877, 'hackneyed': 2879, 'haggis': 2880, 'hair': 2881, 'hairsplitting': 2882, 'half': 2888, 'halfway': 2889, 'ham': 2890, 'hand': 2892, 'handle': 2893, 'handled': 2895, 'handles': 2896, 'hands': 2898, 'hang': 2899, 'hankies': 2900, 'hanks': 2901, 'happen': 2904, 'happened': 2907, 'happiness': 2908, 'happy': 2909, 'hard': 2913, 'harris': 2914, 'hate': 2916, 'hated': 2918, 'hatred': 2919, 'havilland': 2920, 'hay': 2921, 'hayao': 2922, 'hayworth': 2923, 'hbo': 2924, 'head': 2927, 'heads': 2928, 'hear': 2930, 'heard': 2932, 'heart': 2935, 'hearts': 2936, 'heartwarming': 2937, 'heaven': 2939, 'heche': 2940, 'heels': 2941, 'heist': 2942, 'helen': 2943, 'hell': 2945, 'hellish': 2946, 'helms': 2947, 'help': 2948, 'helping': 2949, 'helps': 2951, 'hence': 2953, 'hendrikson': 2954, 'hernandez': 2955, 'hero': 2956, 'heroes': 2957, 'heroine': 2958, 'heroism': 2959, 'hes': 2960, 'hide': 2961, 'high': 2963, 'higher': 2964, 'highest': 2965, 'highlights': 2966, 'highly': 2976, 'hilarious': 2982, 'hill': 2985, 'hilt': 2986, 'hip': 2987, 'history': 2993, 'hitchcock': 2999, 'hockey': 3000, 'hoffman': 3001, 'hold': 3002, 'holding': 3003, 'holds': 3004, 'holes': 3010, 'hollander': 3011, 'hollow': 3013, 'hollywood': 3015, 'home': 3017, 'homework': 3018, 'honest': 3019, 'honestly': 3021, 'hoot': 3022, 'hope': 3026, 'hopefully': 3027, 'hopeless': 3028, 'horrendous': 3029, 'horrendously': 3030, 'horrible': 3036, 'horrid': 3037, 'horrified': 3038, 'horror': 3047, 'horse': 3048, 'hosting': 3049, 'hot': 3050, 'hour': 3055, 'hours': 3059, 'house': 3062, 'houses': 3063, 'howdy': 3064, 'howe': 3065, 'howell': 3066, 'however': 3076, 'huge': 3080, 'hugo': 3081, 'human': 3087, 'humanity': 3088, 'humans': 3089, 'hummh': 3090, 'humor': 3091, 'humorous': 3093, 'humour': 3095, 'hurt': 3096, 'huston': 3099, 'hype': 3100, 'hypocrisy': 3101, 'idea': 3105, 'idealogical': 3106, 'identified': 3107, 'identifies': 3108, 'identify': 3110, 'idiot': 3112, 'idiotic': 3113, 'idyllic': 3114, 'iffy': 3115, 'imaginable': 3117, 'imagination': 3121, 'imaginative': 3123, 'imagine': 3124, 'imdb': 3125, 'imitation': 3126, 'impact': 3127, 'imperial': 3128, 'implausible': 3130, 'important': 3133, 'impossible': 3134, 'impressed': 3136, 'impression': 3137, 'impressive': 3139, 'improved': 3140, 'improvement': 3141, 'improvisation': 3142, 'impulse': 3143, 'inappropriate': 3144, 'incendiary': 3145, 'includes': 3146, 'including': 3149, 'incomprehensible': 3150, 'inconsistencies': 3151, 'incorrectness': 3152, 'incredible': 3158, 'incredibly': 3161, 'indeed': 3165, 'indescribably': 3166, 'indication': 3167, 'indictment': 3168, 'indie': 3169, 'individual': 3170, 'indoor': 3171, 'indulgent': 3174, 'industry': 3176, 'ineptly': 3177, 'inexperience': 3178, 'inexplicable': 3179, 'initially': 3180, 'innocence': 3181, 'insane': 3182, 'inside': 3183, 'insincere': 3184, 'insipid': 3185, 'insomniacs': 3186, 'inspiration': 3187, 'inspiring': 3188, 'instant': 3189, 'instead': 3191, 'instruments': 3192, 'insulin': 3193, 'insult': 3197, 'intangibles': 3198, 'integral': 3199, 'integration': 3200, 'intelligence': 3204, 'intelligent': 3208, 'intense': 3209, 'intensity': 3210, 'intentions': 3211, 'interacting': 3212, 'interest': 3215, 'interested': 3217, 'interesting': 3229, 'interim': 3230, 'interplay': 3232, 'interpretations': 3233, 'interview': 3234, 'intoning': 3235, 'intrigued': 3236, 'inventive': 3237, 'involved': 3242, 'involves': 3243, 'involving': 3244, 'ireland': 3245, 'ironically': 3246, 'irons': 3247, 'ironside': 3248, 'irritating': 3249, 'ishioka': 3250, 'iso': 3251, 'issue': 3252, 'issues': 3254, 'istagey': 3255, 'italian': 3257, 'ive': 3258, 'jack': 3259, 'jaclyn': 3260, 'james': 3264, 'jamie': 3266, 'japanese': 3267, 'jason': 3268, 'jay': 3269, 'jealousy': 3270, 'jean': 3272, 'jennifer': 3273, 'jerky': 3275, 'jerry': 3276, 'jessica': 3277, 'jessice': 3278, 'jet': 3279, 'jim': 3280, 'jimmy': 3282, 'job': 3291, 'jobs': 3293, 'joe': 3295, 'john': 3302, 'joins': 3303, 'joke': 3305, 'jokes': 3306, 'jonah': 3308, 'jones': 3309, 'journey': 3312, 'joy': 3317, 'joyce': 3318, 'juano': 3319, 'judge': 3320, 'judging': 3321, 'judith': 3322, 'judo': 3323, 'julian': 3324, 'june': 3326, 'junk': 3327, 'junkyard': 3329, 'justice': 3330, 'jutland': 3331, 'kanaly': 3332, 'kathy': 3333, 'keep': 3337, 'keeps': 3339, 'keira': 3340, 'keith': 3341, 'kept': 3342, 'kevin': 3343, 'kid': 3344, 'kidnapped': 3345, 'kids': 3353, 'kieslowski': 3354, 'kill': 3355, 'killer': 3357, 'killing': 3359, 'killings': 3360, 'kind': 3368, 'kinda': 3370, 'kirk': 3371, 'kitchy': 3372, 'knew': 3375, 'knightley': 3376, 'knocked': 3377, 'know': 3391, 'known': 3393, 'knows': 3394, 'koteas': 3395, 'kris': 3396, 'kristoffersen': 3397, 'kudos': 3398, 'labute': 3399, 'lack': 3400, 'lacked': 3402, 'lacks': 3408, 'ladies': 3409, 'lady': 3410, 'lame': 3415, 'lance': 3416, 'landscapes': 3417, 'lane': 3419, 'lange': 3421, 'largely': 3422, 'laselva': 3423, 'lassie': 3424, 'last': 3428, 'lasting': 3429, 'latched': 3430, 'late': 3431, 'later': 3432, 'latest': 3433, 'latifa': 3434, 'latin': 3435, 'latter': 3436, 'laugh': 3438, 'laughable': 3441, 'laughed': 3442, 'laughs': 3443, 'layers': 3444, 'lazy': 3446, 'lead': 3451, 'leading': 3452, 'leap': 3453, 'learn': 3456, 'least': 3465, 'leave': 3467, 'leaves': 3469, 'leaving': 3470, 'lee': 3471, 'left': 3474, 'legal': 3475, 'legendary': 3476, 'length': 3478, 'leni': 3479, 'less': 3483, 'lesser': 3485, 'lestat': 3486, 'let': 3491, 'lets': 3492, 'letting': 3493, 'level': 3497, 'levels': 3499, 'lewis': 3500, 'lid': 3501, 'lie': 3502, 'lies': 3503, 'lieutenant': 3504, 'life': 3516, 'lifetime': 3517, 'light': 3519, 'lighting': 3521, 'like': 3569, 'liked': 3579, 'likes': 3581, 'lilli': 3582, 'lilt': 3583, 'limitations': 3584, 'limited': 3585, 'linda': 3586, 'line': 3598, 'linear': 3599, 'lines': 3606, 'lino': 3607, 'lion': 3610, 'list': 3612, 'literally': 3614, 'littered': 3615, 'little': 3632, 'lived': 3633, 'lives': 3635, 'living': 3639, 'loads': 3641, 'local': 3642, 'location': 3645, 'locations': 3646, 'loewenhielm': 3647, 'logic': 3648, 'london': 3649, 'loneliness': 3651, 'long': 3659, 'longer': 3660, 'look': 3679, 'looked': 3683, 'looking': 3686, 'looks': 3689, 'loose': 3690, 'loosely': 3691, 'lord': 3693, 'los': 3695, 'losing': 3697, 'lost': 3701, 'lot': 3710, 'lots': 3713, 'lousy': 3715, 'lovable': 3716, 'love': 3738, 'loved': 3748, 'lovely': 3752, 'loves': 3753, 'low': 3758, 'lower': 3759, 'loyalty': 3760, 'lucio': 3761, 'lucy': 3763, 'lugosi': 3764, 'lust': 3765, 'luv': 3766, 'lyrics': 3767, 'macbeth': 3769, 'machine': 3771, 'mad': 3773, 'made': 3800, 'magnificent': 3801, 'main': 3804, 'mainly': 3805, 'major': 3806, 'make': 3828, 'maker': 3829, 'makers': 3830, 'makes': 3838, 'making': 3844, 'male': 3846, 'males': 3847, 'malta': 3848, 'man': 3861, 'managed': 3862, 'manages': 3863, 'manna': 3864, 'mansonites': 3865, 'many': 3879, 'marbles': 3880, 'march': 3881, 'marine': 3882, 'marion': 3883, 'mark': 3885, 'marred': 3886, 'marriage': 3887, 'martin': 3890, 'masculine': 3891, 'masculinity': 3892, 'massive': 3895, 'master': 3899, 'masterful': 3901, 'masterpiece': 3903, 'masterpieces': 3905, 'material': 3907, 'matrix': 3908, 'matter': 3910, 'matthews': 3911, 'mature': 3914, 'may': 3918, 'maybe': 3922, 'mchattie': 3923, 'mclaglen': 3924, 'meagre': 3925, 'mean': 3929, 'meanders': 3930, 'meaning': 3933, 'meanings': 3934, 'meant': 3935, 'medical': 3936, 'mediocre': 3940, 'meld': 3941, 'melodrama': 3942, 'melville': 3943, 'member': 3945, 'members': 3946, 'memorable': 3952, 'memories': 3955, 'memorized': 3956, 'menace': 3957, 'menacing': 3958, 'mention': 3963, 'mercy': 3965, 'meredith': 3966, 'merit': 3967, 'mesmerising': 3968, 'mess': 3976, 'messages': 3977, 'meteorite': 3978, 'mexican': 3980, 'michael': 3981, 'mickey': 3985, 'microsoft': 3986, 'middle': 3987, 'might': 3990, 'mighty': 3991, 'mind': 3996, 'mindblowing': 3997, 'miner': 3998, 'mini': 4000, 'minor': 4001, 'minute': 4005, 'minutes': 4013, 'mirrormask': 4014, 'miserable': 4015, 'miserably': 4016, 'mishima': 4018, 'misplace': 4019, 'miss': 4020, 'missed': 4022, 'mistakes': 4023, 'miyazaki': 4026, 'modern': 4028, 'modest': 4029, 'mollusk': 4030, 'moment': 4033, 'moments': 4035, 'momentum': 4036, 'money': 4042, 'monica': 4043, 'monolog': 4044, 'monotonous': 4045, 'monster': 4046, 'monstrous': 4047, 'monumental': 4048, 'moral': 4050, 'morgan': 4052, 'morons': 4053, 'mostly': 4059, 'mother': 4061, 'motion': 4062, 'motivations': 4063, 'mountain': 4064, 'mouse': 4066, 'mouth': 4068, 'move': 4069, 'moved': 4070, 'movements': 4071, 'moves': 4072, 'movie': 4254, 'movies': 4283, 'moving': 4287, 'much': 4307, 'muddled': 4308, 'muppets': 4309, 'murder': 4310, 'murdered': 4312, 'murdering': 4313, 'murky': 4314, 'music': 4328, 'musician': 4329, 'must': 4336, 'mystifying': 4337, 'naked': 4338, 'narration': 4339, 'narrative': 4342, 'nasty': 4343, 'national': 4344, 'nationalities': 4345, 'native': 4346, 'natural': 4348, 'nature': 4350, 'naughty': 4351, 'nearly': 4352, 'necklace': 4353, 'need': 4355, 'needed': 4357, 'needlessly': 4358, 'negative': 4361, 'negulesco': 4362, 'neighbour': 4363, 'neil': 4365, 'nerves': 4366, 'nervous': 4367, 'net': 4368, 'netflix': 4369, 'network': 4370, 'never': 4388, 'nevertheless': 4389, 'nevsky': 4390, 'new': 4395, 'next': 4398, 'nice': 4404, 'nicola': 4405, 'night': 4410, 'nimoy': 4411, 'nine': 4412, 'noble': 4413, 'nobody': 4416, 'noir': 4418, 'non': 4423, 'none': 4425, 'nonetheless': 4426, 'nonsense': 4429, 'nor': 4430, 'normally': 4431, 'northern': 4432, 'nostalgia': 4433, 'not': 4610, 'notable': 4612, 'notch': 4613, 'note': 4616, 'noteworthy': 4618, 'nothing': 4632, 'novella': 4633, 'number': 4634, 'numbers': 4635, 'nun': 4636, 'nuns': 4637, 'nurse': 4638, 'nut': 4640, 'nuts': 4642, 'obliged': 4643, 'obsessed': 4644, 'obvious': 4646, 'obviously': 4649, 'occasionally': 4653, 'occupied': 4655, 'occur': 4656, 'occurs': 4657, 'odd': 4659, 'offend': 4660, 'offensive': 4662, 'offer': 4663, 'offers': 4665, 'often': 4670, 'okay': 4671, 'old': 4679, 'olde': 4680, 'older': 4681, 'ole': 4682, 'olivia': 4683, 'omit': 4684, 'one': 4763, 'ones': 4764, 'open': 4765, 'opened': 4767, 'opening': 4769, 'operas': 4770, 'opinion': 4771, 'ordeal': 4772, 'oriented': 4773, 'original': 4777, 'originality': 4778, 'origins': 4779, 'ortolani': 4780, 'oscar': 4783, 'others': 4784, 'otherwise': 4785, 'ought': 4786, 'outlandish': 4787, 'outlets': 4788, 'outside': 4789, 'outward': 4790, 'overacting': 4792, 'overall': 4797, 'overcome': 4798, 'overdue': 4799, 'overly': 4801, 'overs': 4802, 'overt': 4803, 'overwrought': 4804, 'owed': 4805, 'owls': 4806, 'owned': 4808, 'owns': 4809, 'pace': 4810, 'paced': 4813, 'pacing': 4815, 'pack': 4816, 'paid': 4818, 'painful': 4820, 'painfully': 4821, 'paint': 4822, 'painted': 4823, 'pair': 4824, 'palance': 4825, 'pandering': 4826, 'pans': 4827, 'paolo': 4828, 'pap': 4829, 'paper': 4830, 'par': 4832, 'parents': 4834, 'park': 4835, 'parker': 4836, 'part': 4847, 'partaking': 4848, 'particular': 4851, 'particularly': 4856, 'parts': 4860, 'passed': 4861, 'passion': 4862, 'past': 4864, 'patent': 4865, 'pathetic': 4870, 'patriotism': 4871, 'paul': 4874, 'pay': 4875, 'peaking': 4876, 'pearls': 4877, 'peculiarity': 4878, 'pedestal': 4879, 'pencil': 4880, 'people': 4894, 'perabo': 4895, 'perfect': 4901, 'perfected': 4902, 'perfectly': 4905, 'performance': 4917, 'performances': 4923, 'perhaps': 4927, 'period': 4932, 'perplexing': 4933, 'person': 4934, 'personalities': 4935, 'personally': 4936, 'peter': 4938, 'phantasm': 4939, 'phenomenal': 4940, 'philippa': 4941, 'phony': 4942, 'photograph': 4943, 'photography': 4946, 'phrase': 4947, 'physical': 4948, 'picked': 4949, 'picture': 4952, 'pictures': 4954, 'piece': 4964, 'pieces': 4966, 'pile': 4967, 'pillow': 4968, 'pitch': 4969, 'pitiful': 4971, 'pixar': 4972, 'place': 4976, 'places': 4979, 'plain': 4983, 'plane': 4984, 'planned': 4985, 'plants': 4986, 'play': 4995, 'played': 5005, 'player': 5007, 'players': 5008, 'playing': 5015, 'plays': 5018, 'pleasant': 5019, 'pleased': 5021, 'pleaser': 5023, 'pleasing': 5024, 'pledge': 5025, 'plenty': 5027, 'plmer': 5028, 'plot': 5056, 'plug': 5057, 'plus': 5060, 'poet': 5061, 'poetry': 5063, 'poignant': 5064, 'point': 5068, 'pointillistic': 5069, 'pointless': 5072, 'poised': 5073, 'poler': 5074, 'political': 5075, 'politically': 5076, 'politics': 5077, 'ponyo': 5079, 'poor': 5085, 'poorly': 5087, 'popcorn': 5088, 'popular': 5090, 'portrayal': 5096, 'portrayals': 5097, 'portrayed': 5098, 'portraying': 5100, 'positive': 5101, 'possible': 5104, 'possibly': 5107, 'post': 5108, 'potted': 5109, 'power': 5110, 'powerful': 5111, 'powerhouse': 5112, 'practical': 5113, 'practically': 5114, 'pray': 5115, 'precisely': 5116, 'predict': 5117, 'predictable': 5127, 'predictably': 5129, 'prejudice': 5130, 'prelude': 5131, 'premise': 5135, 'prepared': 5136, 'presence': 5138, 'presents': 5141, 'preservation': 5142, 'president': 5143, 'pretentious': 5147, 'pretext': 5148, 'pretty': 5161, 'previous': 5163, 'primal': 5164, 'primary': 5165, 'probably': 5173, 'problem': 5175, 'problems': 5179, 'proceedings': 5181, 'process': 5183, 'produce': 5184, 'produced': 5187, 'producer': 5188, 'producers': 5189, 'product': 5190, 'production': 5195, 'professionals': 5196, 'professor': 5197, 'progresses': 5198, 'promote': 5199, 'prompted': 5200, 'prone': 5201, 'propaganda': 5202, 'properly': 5203, 'proud': 5205, 'proudly': 5206, 'provided': 5207, 'provokes': 5208, 'provoking': 5211, 'pseudo': 5212, 'psychological': 5214, 'psychotic': 5215, 'public': 5216, 'pull': 5218, 'pulling': 5219, 'pulls': 5220, 'punched': 5221, 'punches': 5222, 'punish': 5223, 'punishment': 5224, 'puppet': 5225, 'puppets': 5228, 'pure': 5231, 'purity': 5232, 'put': 5237, 'putting': 5239, 'puzzle': 5240, 'pyromaniac': 5241, 'quaid': 5242, 'qualities': 5243, 'quality': 5246, 'question': 5248, 'questioning': 5249, 'quick': 5250, 'quicker': 5251, 'quiet': 5252, 'quinn': 5254, 'quite': 5264, 'race': 5267, 'racial': 5270, 'racism': 5272, 'radiant': 5273, 'raging': 5274, 'random': 5275, 'range': 5276, 'ranks': 5279, 'rare': 5280, 'rate': 5283, 'rated': 5285, 'rather': 5291, 'rating': 5295, 'ratings': 5297, 'raver': 5298, 'raw': 5299, 'ray': 5303, 'reactions': 5305, 'readers': 5306, 'reading': 5308, 'ready': 5311, 'real': 5332, 'realised': 5333, 'realistic': 5335, 'reality': 5337, 'realize': 5338, 'realized': 5339, 'really': 5380, 'reason': 5383, 'reasonable': 5384, 'reasons': 5385, 'receive': 5386, 'received': 5388, 'recent': 5391, 'recently': 5393, 'recommend': 5406, 'recommended': 5412, 'reconciliation': 5413, 'recover': 5414, 'recurring': 5415, 'redeemed': 5416, 'redeeming': 5418, 'reenactments': 5419, 'references': 5421, 'reflected': 5422, 'refreshing': 5423, 'regardless': 5424, 'regret': 5426, 'regrettable': 5427, 'regrettably': 5428, 'rejection': 5429, 'relate': 5430, 'related': 5431, 'relation': 5432, 'relations': 5434, 'relationship': 5435, 'relationships': 5437, 'relatively': 5438, 'relaxing': 5439, 'release': 5440, 'released': 5443, 'relief': 5444, 'relying': 5445, 'remaining': 5447, 'remake': 5450, 'remarkable': 5451, 'remember': 5454, 'reminded': 5455, 'remotely': 5457, 'removing': 5458, 'rendering': 5459, 'rendition': 5460, 'renowned': 5461, 'rent': 5467, 'repair': 5468, 'repeated': 5469, 'repeating': 5470, 'repeats': 5471, 'repertory': 5472, 'reporter': 5473, 'represents': 5474, 'require': 5475, 'rescue': 5476, 'researched': 5477, 'resounding': 5478, 'respecting': 5479, 'rest': 5483, 'restrained': 5484, 'result': 5486, 'results': 5487, 'resume': 5488, 'retarded': 5489, 'retreat': 5490, 'return': 5492, 'revealing': 5494, 'revenge': 5495, 'revere': 5496, 'reverse': 5497, 'review': 5499, 'reviewer': 5501, 'reviewers': 5502, 'reviews': 5503, 'rice': 5504, 'rickman': 5505, 'ridiculous': 5510, 'ridiculousness': 5511, 'right': 5524, 'riot': 5525, 'rips': 5526, 'rise': 5527, 'rita': 5528, 'rivalry': 5529, 'riveted': 5530, 'riz': 5531, 'road': 5532, 'robert': 5534, 'robotic': 5535, 'rochon': 5536, 'rocked': 5537, 'rocks': 5538, 'roeg': 5539, 'role': 5543, 'roles': 5547, 'roller': 5548, 'rolls': 5549, 'romantic': 5550, 'room': 5552, 'roosevelt': 5553, 'roth': 5554, 'rough': 5555, 'round': 5556, 'routine': 5557, 'row': 5558, 'rpg': 5559, 'rpger': 5560, 'rubbish': 5561, 'rubin': 5562, 'rumbles': 5563, 'run': 5565, 'running': 5567, 'ruthless': 5570, 'ryan': 5571, 'ryans': 5572, 'sabotages': 5573, 'sack': 5574, 'sacrifice': 5575, 'sad': 5576, 'said': 5581, 'sake': 5583, 'salesman': 5584, 'sam': 5585, 'sample': 5586, 'sand': 5588, 'sandra': 5590, 'sappiest': 5591, 'sarcophage': 5592, 'sat': 5593, 'satanic': 5594, 'savalas': 5595, 'savant': 5596, 'save': 5597, 'savor': 5598, 'saw': 5610, 'say': 5623, 'says': 5624, 'scale': 5627, 'scamp': 5631, 'scare': 5632, 'scared': 5635, 'scares': 5636, 'scary': 5638, 'scene': 5652, 'scenery': 5655, 'scenes': 5674, 'schilling': 5675, 'schizophrenic': 5676, 'school': 5677, 'schoolers': 5678, 'schrader': 5680, 'schultz': 5681, 'sci': 5683, 'science': 5684, 'scientist': 5685, 'score': 5688, 'scot': 5689, 'scream': 5690, 'screamy': 5691, 'screen': 5705, 'screened': 5706, 'screenplay': 5707, 'screenwriter': 5710, 'scrimm': 5711, 'script': 5735, 'scripted': 5736, 'scripting': 5737, 'scripts': 5738, 'sculpture': 5739, 'sea': 5742, 'seamless': 5743, 'seamlessly': 5744, 'sean': 5745, 'season': 5747, 'seat': 5748, 'second': 5754, 'secondary': 5755, 'secondly': 5756, 'see': 5792, 'seeing': 5799, 'seem': 5803, 'seemed': 5806, 'seems': 5809, 'seen': 5832, 'selections': 5833, 'self': 5840, 'sells': 5841, 'semi': 5842, 'senior': 5843, 'sense': 5846, 'senses': 5848, 'sensibility': 5849, 'sensitivities': 5850, 'sentiment': 5852, 'seperate': 5853, 'sequel': 5855, 'sequels': 5856, 'sequence': 5858, 'sequences': 5859, 'series': 5867, 'serious': 5871, 'seriously': 5874, 'served': 5875, 'set': 5878, 'sets': 5882, 'setting': 5884, 'settings': 5885, 'seuss': 5886, 'several': 5888, 'sex': 5889, 'shakespear': 5891, 'shakespears': 5892, 'shallow': 5893, 'shame': 5895, 'shameful': 5896, 'share': 5899, 'sharing': 5900, 'sharply': 5901, 'shatner': 5902, 'shattered': 5903, 'shed': 5905, 'sheer': 5906, 'shelf': 5907, 'shell': 5908, 'shelves': 5909, 'shenanigans': 5910, 'shepard': 5911, 'shined': 5912, 'shirley': 5913, 'shocking': 5914, 'shooting': 5915, 'short': 5926, 'shortlist': 5927, 'shot': 5932, 'shots': 5935, 'show': 5952, 'showcasing': 5953, 'showed': 5956, 'shows': 5959, 'shut': 5960, 'sibling': 5961, 'sick': 5963, 'side': 5964, 'sidelined': 5965, 'sign': 5966, 'significant': 5969, 'silent': 5974, 'silly': 5975, 'simmering': 5976, 'simplifying': 5977, 'simply': 5987, 'since': 5992, 'sincere': 5993, 'sing': 5994, 'singing': 5997, 'single': 6002, 'sinister': 6003, 'sink': 6004, 'sinking': 6005, 'sister': 6006, 'sisters': 6008, 'sit': 6009, 'sitcoms': 6010, 'site': 6011, 'sites': 6012, 'sits': 6013, 'situation': 6015, 'situations': 6016, 'skilled': 6017, 'skip': 6018, 'slackers': 6019, 'slavic': 6020, 'sleep': 6022, 'slideshow': 6023, 'slightest': 6025, 'slightly': 6026, 'slimy': 6027, 'sloppy': 6028, 'slow': 6034, 'slurs': 6035, 'smack': 6036, 'small': 6040, 'smart': 6043, 'smells': 6044, 'smile': 6046, 'smiling': 6047, 'smith': 6048, 'smoothly': 6049, 'snider': 6050, 'snow': 6051, 'soap': 6052, 'sobering': 6053, 'social': 6054, 'soldiers': 6055, 'sole': 6056, 'solid': 6061, 'solidifying': 6062, 'solving': 6063, 'someone': 6066, 'something': 6070, 'sometimes': 6074, 'somewhat': 6076, 'son': 6078, 'song': 6082, 'songs': 6086, 'soon': 6087, 'sophisticated': 6088, 'sorrentino': 6089, 'sorry': 6090, 'sort': 6093, 'soul': 6095, 'sound': 6101, 'sounded': 6102, 'sounds': 6103, 'soundtrack': 6107, 'sour': 6108, 'south': 6111, 'southern': 6112, 'space': 6115, 'spacek': 6116, 'spacey': 6117, 'span': 6118, 'speak': 6121, 'speaking': 6122, 'special': 6131, 'speed': 6133, 'spend': 6134, 'spent': 6137, 'spew': 6138, 'sphere': 6139, 'spiffy': 6140, 'splendid': 6141, 'spock': 6142, 'spoil': 6144, 'spoiled': 6145, 'spoiler': 6147, 'spoilers': 6150, 'spot': 6151, 'spy': 6152, 'squibs': 6153, 'stable': 6154, 'stage': 6157, 'stagy': 6158, 'stand': 6160, 'standout': 6161, 'stanwyck': 6164, 'star': 6168, 'starlet': 6169, 'starring': 6170, 'stars': 6173, 'start': 6175, 'started': 6180, 'starts': 6182, 'state': 6183, 'stay': 6185, 'stayed': 6186, 'stealing': 6187, 'steamboat': 6188, 'steele': 6189, 'step': 6191, 'stephen': 6192, 'stereotypes': 6195, 'stereotypically': 6196, 'steve': 6198, 'stewart': 6199, 'stick': 6200, 'still': 6214, 'stinker': 6215, 'stinks': 6217, 'stocking': 6218, 'stockings': 6219, 'stoic': 6220, 'store': 6222, 'stories': 6226, 'storm': 6227, 'story': 6255, 'storyline': 6259, 'storytelling': 6260, 'stowe': 6261, 'strange': 6262, 'stranger': 6263, 'stratus': 6264, 'straw': 6265, 'street': 6266, 'strident': 6267, 'string': 6268, 'strives': 6269, 'strokes': 6270, 'strong': 6275, 'struck': 6277, 'structure': 6278, 'struggle': 6279, 'stuart': 6280, 'student': 6281, 'students': 6282, 'studio': 6284, 'study': 6285, 'stuff': 6286, 'stunning': 6289, 'stupid': 6303, 'stupidity': 6304, 'style': 6310, 'stylized': 6311, 'sub': 6314, 'subject': 6315, 'subjects': 6316, 'sublime': 6318, 'sublimely': 6319, 'subplots': 6320, 'subtitles': 6321, 'subtle': 6328, 'subversive': 6329, 'subverting': 6330, 'succeeded': 6331, 'succeeds': 6332, 'success': 6333, 'suck': 6334, 'sucked': 6341, 'sucks': 6349, 'suffered': 6350, 'suffering': 6352, 'suggest': 6353, 'suggests': 6354, 'suited': 6355, 'sum': 6357, 'summary': 6359, 'sundays': 6360, 'super': 6363, 'superb': 6368, 'superbad': 6369, 'superbly': 6371, 'superficial': 6372, 'superlative': 6373, 'supernatural': 6374, 'supporting': 6375, 'supposed': 6377, 'supposedly': 6379, 'sure': 6382, 'surely': 6383, 'surf': 6384, 'surface': 6385, 'surprised': 6386, 'surprises': 6387, 'surprising': 6389, 'surprisingly': 6392, 'surrounding': 6394, 'surroundings': 6395, 'survivors': 6396, 'suspense': 6404, 'suspension': 6405, 'sven': 6406, 'swamp': 6407, 'sweep': 6408, 'sweet': 6409, 'switched': 6410, 'swords': 6411, 'sydney': 6412, 'sympathetic': 6413, 'syrupy': 6414, 'system': 6415, 'tacky': 6416, 'taelons': 6417, 'take': 6423, 'taken': 6424, 'takes': 6426, 'taking': 6428, 'tale': 6432, 'talent': 6434, 'talented': 6437, 'talents': 6438, 'talk': 6443, 'tanks': 6444, 'taped': 6446, 'tardis': 6447, 'task': 6448, 'taste': 6449, 'taxidermists': 6450, 'taylor': 6452, 'teacher': 6453, 'teaches': 6454, 'team': 6455, 'tear': 6456, 'tears': 6457, 'technically': 6458, 'teddy': 6459, 'tedium': 6460, 'teen': 6461, 'teenagers': 6462, 'teeth': 6463, 'telephone': 6464, 'television': 6465, 'tell': 6469, 'telly': 6470, 'temperaments': 6471, 'ten': 6473, 'tender': 6474, 'tension': 6476, 'tensions': 6477, 'terminology': 6478, 'terms': 6480, 'terrible': 6492, 'terribly': 6494, 'terrific': 6499, 'terror': 6500, 'thanks': 6501, 'theater': 6505, 'theatre': 6506, 'theatres': 6507, 'theatrical': 6508, 'theme': 6511, 'themes': 6513, 'therapy': 6514, 'thick': 6515, 'thing': 6528, 'things': 6540, 'think': 6561, 'thinking': 6564, 'thomerson': 6565, 'thoroughly': 6568, 'thorsen': 6569, 'though': 6580, 'thought': 6592, 'thoughts': 6594, 'thousand': 6595, 'thread': 6596, 'three': 6600, 'threshold': 6601, 'thrilled': 6603, 'thriller': 6608, 'thrillers': 6609, 'throughout': 6615, 'throwback': 6616, 'thrown': 6619, 'thug': 6620, 'thumper': 6621, 'thunderbirds': 6622, 'thus': 6623, 'ticker': 6624, 'tickets': 6625, 'tightly': 6626, 'time': 6669, 'timeless': 6670, 'timely': 6671, 'timers': 6672, 'times': 6677, 'timing': 6678, 'tiny': 6679, 'tired': 6680, 'title': 6681, 'titta': 6682, 'today': 6686, 'together': 6693, 'told': 6696, 'tolerable': 6697, 'tolerate': 6698, 'tom': 6703, 'tomorrow': 6704, 'tone': 6705, 'tongue': 6706, 'tonight': 6707, 'tons': 6708, 'tony': 6709, 'took': 6711, 'toons': 6712, 'top': 6719, 'tops': 6720, 'torture': 6724, 'tortured': 6725, 'total': 6726, 'totally': 6741, 'touch': 6742, 'touches': 6743, 'touching': 6746, 'tough': 6747, 'towards': 6749, 'towers': 6750, 'townsend': 6751, 'track': 6752, 'tract': 6753, 'traditional': 6754, 'traffic': 6755, 'trailer': 6756, 'train': 6757, 'tranquillity': 6758, 'transcend': 6759, 'transfers': 6760, 'translate': 6761, 'translating': 6762, 'trap': 6763, 'trash': 6767, 'trashy': 6768, 'treachery': 6769, 'treasure': 6770, 'treat': 6771, 'treatments': 6772, 'trek': 6773, 'tremendous': 6774, 'tremendously': 6776, 'tries': 6777, 'trilogy': 6780, 'trinity': 6781, 'trip': 6782, 'triumphed': 6783, 'trond': 6784, 'trooper': 6785, 'trouble': 6786, 'truck': 6787, 'true': 6791, 'truly': 6800, 'trumbull': 6801, 'trumpeter': 6802, 'truth': 6803, 'try': 6807, 'trying': 6811, 'trysts': 6812, 'tsunami': 6813, 'tuneful': 6814, 'turkey': 6815, 'turn': 6818, 'turned': 6820, 'turns': 6822, 'twice': 6824, 'twirling': 6825, 'twist': 6827, 'twists': 6828, 'two': 6841, 'tying': 6842, 'type': 6845, 'typical': 6846, 'ugliest': 6847, 'ugly': 6848, 'uhura': 6849, 'ultra': 6850, 'unaccompanied': 6851, 'unbearable': 6852, 'unbearably': 6853, 'unbelievable': 6857, 'uncalled': 6858, 'unconditional': 6859, 'unconvincing': 6862, 'underacting': 6863, 'underappreciated': 6864, 'underbite': 6865, 'underlines': 6866, 'underlying': 6868, 'underneath': 6870, 'underrated': 6871, 'understand': 6880, 'understanding': 6881, 'understated': 6883, 'understatement': 6884, 'understood': 6885, 'undertone': 6886, 'underwater': 6887, 'undoubtedly': 6889, 'uneasy': 6890, 'unemployed': 6891, 'unethical': 6892, 'unfaithful': 6893, 'unfolds': 6895, 'unforgettable': 6896, 'unfortunate': 6897, 'unfortunately': 6901, 'unfunny': 6903, 'unintentionally': 6904, 'uninteresting': 6906, 'union': 6907, 'unique': 6908, 'uniqueness': 6909, 'universal': 6910, 'universe': 6911, 'unless': 6912, 'unlockable': 6913, 'unmatched': 6914, 'unmitigated': 6915, 'unmoving': 6916, 'unnecessary': 6917, 'unneeded': 6918, 'unoriginal': 6919, 'unpleasant': 6920, 'unpredictability': 6921, 'unpredictable': 6923, 'unrealistic': 6924, 'unrecognizable': 6926, 'unrecommended': 6927, 'unremarkable': 6928, 'unrestrained': 6929, 'unsatisfactory': 6930, 'unwatchable': 6931, 'upa': 6932, 'uplifting': 6934, 'upper': 6935, 'ups': 6939, 'uptight': 6940, 'ursula': 6941, 'use': 6947, 'used': 6955, 'user': 6956, 'uses': 6958, 'using': 6959, 'ussr': 6960, 'usual': 6964, 'utter': 6965, 'utterly': 6969, 'valentine': 6970, 'value': 6971, 'values': 6974, 'vampire': 6975, 'vandiver': 6976, 'variation': 6977, 'vehicles': 6978, 'ventura': 6979, 'verbal': 6980, 'verbatim': 6981, 'versatile': 6982, 'version': 6983, 'versus': 6985, 'vessel': 6986, 'veteran': 6987, 'vey': 6988, 'vibe': 6989, 'victor': 6990, 'video': 6992, 'view': 6993, 'viewer': 6994, 'viewing': 6996, 'views': 6997, 'villain': 6998, 'villains': 6999, 'violence': 7000, 'violin': 7001, 'virtue': 7002, 'virus': 7003, 'vision': 7004, 'visual': 7008, 'visually': 7010, 'vitally': 7011, 'vivian': 7012, 'vivid': 7013, 'vocal': 7014, 'voice': 7016, 'volatile': 7017, 'volcano': 7019, 'vomit': 7021, 'vomited': 7022, 'voyage': 7023, 'vulcan': 7024, 'waiting': 7025, 'waitress': 7026, 'walk': 7027, 'walked': 7029, 'wall': 7031, 'want': 7037, 'wanted': 7039, 'wanting': 7040, 'wants': 7041, 'war': 7044, 'warmth': 7046, 'warn': 7047, 'warning': 7048, 'wartime': 7049, 'warts': 7050, 'washed': 7051, 'washing': 7052, 'waste': 7066, 'wasted': 7073, 'waster': 7074, 'wasting': 7075, 'watch': 7092, 'watchable': 7095, 'watched': 7104, 'watching': 7126, 'water': 7128, 'watkins': 7130, 'watson': 7132, 'wave': 7133, 'way': 7156, 'waylaid': 7157, 'wayne': 7159, 'ways': 7161, 'weak': 7164, 'weaker': 7165, 'weariness': 7166, 'weaving': 7167, 'website': 7168, 'wedding': 7169, 'weight': 7170, 'weird': 7172, 'well': 7207, 'welsh': 7208, 'went': 7209, 'whatever': 7215, 'whatsoever': 7218, 'whenever': 7219, 'whether': 7223, 'whine': 7224, 'whiny': 7226, 'white': 7234, 'whites': 7235, 'whoever': 7236, 'whole': 7245, 'wholesome': 7247, 'wide': 7248, 'widmark': 7249, 'wife': 7250, 'wih': 7251, 'wild': 7252, 'wilkinson': 7255, 'william': 7256, 'willie': 7257, 'wily': 7258, 'win': 7259, 'wind': 7262, 'wise': 7263, 'wish': 7266, 'within': 7267, 'without': 7271, 'witticisms': 7272, 'witty': 7274, 'woa': 7275, 'women': 7278, 'wonder': 7280, 'wondered': 7281, 'wonderful': 7299, 'wonderfully': 7302, 'wong': 7303, 'wont': 7304, 'woo': 7305, 'wooden': 7307, 'word': 7312, 'words': 7315, 'work': 7335, 'worked': 7336, 'working': 7339, 'works': 7344, 'world': 7350, 'worry': 7351, 'worse': 7362, 'worst': 7373, 'worth': 7386, 'worthless': 7387, 'worthwhile': 7388, 'worthy': 7389, 'would': 7425, 'wouldnt': 7426, 'woven': 7427, 'wow': 7428, 'wrap': 7429, 'write': 7432, 'writer': 7435, 'writers': 7436, 'writing': 7449, 'written': 7456, 'wrong': 7459, 'wrote': 7460, 'yardley': 7461, 'yawn': 7462, 'yeah': 7464, 'year': 7468, 'years': 7482, 'yelps': 7483, 'yes': 7486, 'yet': 7491, 'young': 7495, 'younger': 7496, 'youthful': 7497, 'youtube': 7498, 'yun': 7499, 'zillion': 7500, 'zombie': 7502, 'zombiez': 7503}\n"
     ]
    }
   ],
   "source": [
    "# Below is the code to load the cleaned_strings pickle file provided\n",
    "# Here corpus is of list type\n",
    "\n",
    "import pickle\n",
    "with open('cleaned_strings', 'rb') as f:\n",
    "    corpus = pickle.load(f)\n",
    "def fit(corpus):\n",
    "    unique_word = []\n",
    "    if isinstance(corpus,(list,)):\n",
    "        for row in corpus:\n",
    "            for word in row.split(\" \"):\n",
    "                if len(word)>2:\n",
    "                    unique_word.append(word)\n",
    "        unique_word = sorted(list(unique_word))\n",
    "        unique_word = {j:i for i,j in enumerate(unique_word)}\n",
    "    return unique_word\n",
    "fit_results = fit(corpus)\n",
    "print(fit_results)\n",
    "\n",
    "# printing the length of the corpus loaded\n",
    "#print(\"Number of documents in corpus = \",len(corpus))"
   ]
  },
  {
   "cell_type": "code",
   "execution_count": 70,
   "metadata": {},
   "outputs": [
    {
     "name": "stdout",
     "output_type": "stream",
     "text": [
      "{'aailiyah': 6.922918004572872, 'abandoned': 6.922918004572872, 'abroad': 6.922918004572872, 'abstruse': 6.922918004572872, 'academy': 6.922918004572872, 'accents': 6.922918004572872, 'accessible': 6.922918004572872, 'acclaimed': 6.922918004572872, 'accolades': 6.922918004572872, 'accurately': 6.922918004572872, 'achille': 6.922918004572872, 'ackerman': 6.922918004572872, 'adams': 6.922918004572872, 'added': 6.922918004572872, 'admins': 6.922918004572872, 'admiration': 6.922918004572872, 'admitted': 6.922918004572872, 'adrift': 6.922918004572872, 'adventure': 6.922918004572872, 'aesthetically': 6.922918004572872, 'affected': 6.922918004572872, 'affleck': 6.922918004572872, 'afternoon': 6.922918004572872, 'agreed': 6.922918004572872, 'aimless': 6.922918004572872, 'aired': 6.922918004572872, 'akasha': 6.922918004572872, 'alert': 6.922918004572872, 'alike': 6.922918004572872, 'allison': 6.922918004572872, 'allowing': 6.922918004572872, 'alongside': 6.922918004572872, 'amateurish': 6.922918004572872, 'amazed': 6.922918004572872, 'amazingly': 6.922918004572872, 'amusing': 6.922918004572872, 'amust': 6.922918004572872, 'anatomist': 6.922918004572872, 'angela': 6.922918004572872, 'angelina': 6.922918004572872, 'angry': 6.922918004572872, 'anguish': 6.922918004572872, 'angus': 6.922918004572872, 'animals': 6.922918004572872, 'animated': 6.922918004572872, 'anita': 6.922918004572872, 'anniversary': 6.922918004572872, 'anthony': 6.922918004572872, 'antithesis': 6.922918004572872, 'anyway': 6.922918004572872}\n"
     ]
    }
   ],
   "source": [
    "def idf(corpus, fit_results):\n",
    "    if isinstance(corpus,(list,)):\n",
    "        N = len(corpus)\n",
    "        idf_value = {}\n",
    "        for word in fit_results:\n",
    "            count = 0\n",
    "            for row in corpus:\n",
    "                if row.find(word)!=-1:\n",
    "                    count = count + 1 \n",
    "            idf_value[word] = 1 + math.log((1 + N)/(1+count))\n",
    "        idf_value_sorted = dict(sorted(idf_value.items(),key=lambda item: item[1],reverse=True))\n",
    "        idf_50_items = list(idf_value_sorted.items())[:50]\n",
    "        return idf_50_items\n",
    "idf_50_items = dict(idf(corpus, fit_results))\n",
    "print(idf_50_items)"
   ]
  },
  {
   "cell_type": "code",
   "execution_count": 74,
   "metadata": {
    "colab": {},
    "colab_type": "code",
    "id": "ZULfoOIdxLjQ"
   },
   "outputs": [
    {
     "name": "stdout",
     "output_type": "stream",
     "text": [
      "[0. 0. 0. 0. 0. 0. 0. 0. 0. 0. 0. 0. 0. 0. 0. 0. 0. 0. 0. 0. 0. 0. 0. 0.\n",
      " 1. 0. 0. 0. 0. 0. 0. 0. 0. 0. 0. 0. 0. 0. 0. 0. 0. 0. 0. 0. 0. 0. 0. 0.\n",
      " 0. 0.]\n"
     ]
    }
   ],
   "source": [
    "# Write your code here.\n",
    "# Try not to hardcode any values.\n",
    "# Make sure its well documented and readble with appropriate comments.\n",
    "import warnings\n",
    "from scipy.sparse import (spdiags, SparseEfficiencyWarning, csc_matrix,\n",
    "    csr_matrix, isspmatrix, dok_matrix, lil_matrix, bsr_matrix)\n",
    "warnings.simplefilter('ignore',SparseEfficiencyWarning)\n",
    "\n",
    "def transform(corpus, idf_50_items):\n",
    "    key = list(idf_50_items.keys())\n",
    "    index_idf = {j:i for i,j in enumerate(key)}\n",
    "    sparse_matrix = csr_matrix((len(corpus), len(idf_50_items)), dtype=numpy.float64)\n",
    "    for row in range(0,len(corpus)):\n",
    "        count_words = Counter(corpus[row].split())\n",
    "        for word in corpus[row].split():\n",
    "            if word in idf_50_items.keys():\n",
    "                tfidf = (count_words[word]/len(corpus[row].split()))*idf_50_items[word]\n",
    "                sparse_matrix[row, index_idf[word]] = tfidf\n",
    "        output = normalize(sparse_matrix.todense(), norm='l2', axis=1, copy=True, return_norm=False)\n",
    "    return output\n",
    "transform = transform(corpus, idf_50_items)\n",
    "print(transform[0])"
   ]
  },
  {
   "cell_type": "code",
   "execution_count": null,
   "metadata": {
    "colab": {},
    "colab_type": "code",
    "id": "1_DJnnR3xLjR"
   },
   "outputs": [],
   "source": []
  },
  {
   "cell_type": "code",
   "execution_count": null,
   "metadata": {},
   "outputs": [],
   "source": []
  }
 ],
 "metadata": {
  "colab": {
   "collapsed_sections": [],
   "name": "Assignment_3_Instructions.ipynb",
   "provenance": []
  },
  "kernelspec": {
   "display_name": "Python 3",
   "language": "python",
   "name": "python3"
  },
  "language_info": {
   "codemirror_mode": {
    "name": "ipython",
    "version": 3
   },
   "file_extension": ".py",
   "mimetype": "text/x-python",
   "name": "python",
   "nbconvert_exporter": "python",
   "pygments_lexer": "ipython3",
   "version": "3.8.3"
  }
 },
 "nbformat": 4,
 "nbformat_minor": 1
}
